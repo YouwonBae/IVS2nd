{
 "cells": [
  {
   "cell_type": "markdown",
   "id": "7895db62-1a04-4351-8b38-2c4c482686ac",
   "metadata": {},
   "source": [
    "<font size = '7' color = 'red'><b>ch08. 예외처리</b></font>"
   ]
  },
  {
   "cell_type": "markdown",
   "id": "33f027a8-c767-4bb5-b6a2-a3e8bd5aa5f2",
   "metadata": {},
   "source": [
    "# 1절. 예외처리\n",
    "- 예외가 날 가능성이 있는 부분을 미리 예상하고 그에 대한 처리를 프로그래밍하는 것 (이유 : 안정적으로 실행될 수 있도록 하기 위함)"
   ]
  },
  {
   "cell_type": "code",
   "execution_count": 3,
   "id": "3527a659-e924-489a-bbca-b9fb054c9f22",
   "metadata": {},
   "outputs": [
    {
     "name": "stdin",
     "output_type": "stream",
     "text": [
      "파일명? ch08.txt\n"
     ]
    },
    {
     "data": {
      "text/plain": [
       "['this is test file\\n', 'Hello, Python\\n', '테스트 파일입니다.']"
      ]
     },
     "execution_count": 3,
     "metadata": {},
     "output_type": "execute_result"
    }
   ],
   "source": [
    "# 있는 파일의 경우 예외 발생 안함\n",
    "filename = input('파일명?')\n",
    "f = open('data/'+filename , 'r', encoding=\"utf-8\") # encoding의 default값은 cp949\n",
    "f.readlines()"
   ]
  },
  {
   "cell_type": "code",
   "execution_count": 9,
   "id": "52aeecce-fd81-4df3-8f3d-1a79c4b03155",
   "metadata": {},
   "outputs": [
    {
     "name": "stdin",
     "output_type": "stream",
     "text": [
      "나눌 숫자를 입력하세요 >>  0\n"
     ]
    },
    {
     "ename": "ZeroDivisionError",
     "evalue": "division by zero",
     "output_type": "error",
     "traceback": [
      "\u001b[1;31m---------------------------------------------------------------------------\u001b[0m",
      "\u001b[1;31mZeroDivisionError\u001b[0m                         Traceback (most recent call last)",
      "Cell \u001b[1;32mIn[9], line 4\u001b[0m\n\u001b[0;32m      1\u001b[0m \u001b[38;5;66;03m# ValueError예외객체 : 숫자가 아닌 문자를 입력했을 경우\u001b[39;00m\n\u001b[0;32m      2\u001b[0m \u001b[38;5;66;03m# ZeroDiviosionError 예외객체 : 분모에 0을 입력했을 경우\u001b[39;00m\n\u001b[0;32m      3\u001b[0m num \u001b[38;5;241m=\u001b[39m \u001b[38;5;28mint\u001b[39m(\u001b[38;5;28minput\u001b[39m(\u001b[38;5;124m'\u001b[39m\u001b[38;5;124m나눌 숫자를 입력하세요 >> \u001b[39m\u001b[38;5;124m'\u001b[39m))\n\u001b[1;32m----> 4\u001b[0m \u001b[38;5;241m100\u001b[39m\u001b[38;5;241m/\u001b[39mnum\n",
      "\u001b[1;31mZeroDivisionError\u001b[0m: division by zero"
     ]
    }
   ],
   "source": [
    "# ValueError예외객체 : 숫자가 아닌 문자를 입력했을 경우\n",
    "# ZeroDiviosionError 예외객체 : 분모에 0을 입력했을 경우\n",
    "num = int(input('나눌 숫자를 입력하세요 >> '))\n",
    "100/num"
   ]
  },
  {
   "cell_type": "code",
   "execution_count": 8,
   "id": "a74d96a5-ea4e-48b5-9d7f-3d71b4db8db1",
   "metadata": {},
   "outputs": [
    {
     "ename": "IndexError",
     "evalue": "list index out of range",
     "output_type": "error",
     "traceback": [
      "\u001b[1;31m---------------------------------------------------------------------------\u001b[0m",
      "\u001b[1;31mIndexError\u001b[0m                                Traceback (most recent call last)",
      "Cell \u001b[1;32mIn[8], line 3\u001b[0m\n\u001b[0;32m      1\u001b[0m \u001b[38;5;66;03m# IndexError 예외객체 : 인덱스를 벗어났을 경우\u001b[39;00m\n\u001b[0;32m      2\u001b[0m a \u001b[38;5;241m=\u001b[39m [\u001b[38;5;241m1\u001b[39m,\u001b[38;5;241m2\u001b[39m,\u001b[38;5;241m3\u001b[39m]\n\u001b[1;32m----> 3\u001b[0m a[\u001b[38;5;241m3\u001b[39m]\n",
      "\u001b[1;31mIndexError\u001b[0m: list index out of range"
     ]
    }
   ],
   "source": [
    "# IndexError 예외객체 : 인덱스를 벗어났을 경우\n",
    "a = [1,2,3]\n",
    "a[3]"
   ]
  },
  {
   "cell_type": "markdown",
   "id": "b4e8362b-4dc4-4450-93ef-15d9b86e67bb",
   "metadata": {},
   "source": [
    "# 2절. try~ except로 예외처리"
   ]
  },
  {
   "cell_type": "markdown",
   "id": "8f4cc9dd-d7b1-44a9-8cab-28796df3ada8",
   "metadata": {},
   "source": [
    "```\n",
    "try:\n",
    "    예외가 발생할 가능성이 있는 명령어1\n",
    "    명령어....\n",
    "except [예외 타입 [as 예외객체변수명]]:\n",
    "    예외가 발생했을 경우\n",
    "[else:\n",
    "    예외가 발생되지 않을 경우 수행 명령어]\n",
    "[finally:\n",
    "    예외 여부와 관계없이 반드시 실행할 명령어]\n",
    "```"
   ]
  },
  {
   "cell_type": "code",
   "execution_count": 14,
   "id": "614a1907-200a-4fb7-ac97-824177dc76f9",
   "metadata": {},
   "outputs": [
    {
     "name": "stdin",
     "output_type": "stream",
     "text": [
      "100을 나눌 정수를 입력하세요 >>  a\n"
     ]
    },
    {
     "name": "stdout",
     "output_type": "stream",
     "text": [
      "유효한 정수가 아닙니다.\n"
     ]
    }
   ],
   "source": [
    "# 100을 입력받은 정수값으로 나눠 출력한다\n",
    "# ValueError예외객체 : 숫자가 아닌 문자를 입력했을 경우\n",
    "# ZeroDiviosionError 예외객체 : 분모에 0을 입력했을 경우\n",
    "try:\n",
    "    x = int(input('100을 나눌 정수를 입력하세요 >> '))\n",
    "    print(\"입력한 수는 {}\".format(x))\n",
    "    print(\"100을 입력한 정수로 나누면 {:.2f}입니다\".format( 100/x ))\n",
    "except:\n",
    "    print('유효한 정수가 아닙니다.')"
   ]
  },
  {
   "cell_type": "code",
   "execution_count": 18,
   "id": "36c3bb25-efbd-49db-bcd2-4261389bf53c",
   "metadata": {},
   "outputs": [
    {
     "name": "stdin",
     "output_type": "stream",
     "text": [
      "100을 나눌 정수를 입력하세요 >>  0\n"
     ]
    },
    {
     "name": "stdout",
     "output_type": "stream",
     "text": [
      "입력한 수는 0\n",
      "0이 아닌 정수를 입력하세요.\n"
     ]
    }
   ],
   "source": [
    "# 100을 입력받은 정수값으로 나눠 출력한다\n",
    "# ValueError예외객체 : 숫자가 아닌 문자를 입력했을 경우\n",
    "# ZeroDiviosionError 예외객체 : 분모에 0을 입력했을 경우\n",
    "try:\n",
    "    x = int(input('100을 나눌 정수를 입력하세요 >> '))\n",
    "    print(\"입력한 수는 {}\".format(x))\n",
    "    print(\"100을 입력한 정수로 나누면 {:.2f}입니다\".format( 100/x ))\n",
    "except ValueError:\n",
    "    print('정수를 입력하세요.')\n",
    "except ZeroDivisionError:\n",
    "    print('0이 아닌 정수를 입력하세요.')"
   ]
  },
  {
   "cell_type": "code",
   "execution_count": 19,
   "id": "43492f99-7c44-4a9f-bb49-1e7bc5f13492",
   "metadata": {},
   "outputs": [
    {
     "name": "stdin",
     "output_type": "stream",
     "text": [
      "100을 나눌 정수를 입력하세요 >>  a\n"
     ]
    },
    {
     "name": "stdout",
     "output_type": "stream",
     "text": [
      "0이 아닌 정수를 입력하세요.\n"
     ]
    }
   ],
   "source": [
    "# 100을 입력받은 정수값으로 나눠 출력한다\n",
    "# 예외에러는 상위 Exception을 상속받아 생성되기 때문에 상하관계와 순서가 중요함 (escept 구문은 순차적으로 샐행됨)\n",
    "try:\n",
    "    x = int(input('100을 나눌 정수를 입력하세요 >> '))\n",
    "    print(\"입력한 수는 {}\".format(x))\n",
    "    print(\"100을 입력한 정수로 나누면 {:.2f}입니다\".format( 100/x ))\n",
    "except Exception:\n",
    "    print('0이 아닌 정수를 입력하세요.')\n",
    "except ValueError:\n",
    "    print('정수를 입력하세요.')"
   ]
  },
  {
   "cell_type": "code",
   "execution_count": 21,
   "id": "2e88d597-f87d-464a-9bd1-40246ebe1f61",
   "metadata": {},
   "outputs": [
    {
     "name": "stdin",
     "output_type": "stream",
     "text": [
      "100을 나눌 정수를 입력하세요 >>  a\n"
     ]
    },
    {
     "name": "stdout",
     "output_type": "stream",
     "text": [
      "0이 아닌 정수를 입력하세요.\n"
     ]
    },
    {
     "name": "stdin",
     "output_type": "stream",
     "text": [
      "100을 나눌 정수를 입력하세요 >>  0\n"
     ]
    },
    {
     "name": "stdout",
     "output_type": "stream",
     "text": [
      "입력한 수는 0\n",
      "0이 아닌 정수를 입력하세요.\n"
     ]
    },
    {
     "name": "stdin",
     "output_type": "stream",
     "text": [
      "100을 나눌 정수를 입력하세요 >>  100\n"
     ]
    },
    {
     "name": "stdout",
     "output_type": "stream",
     "text": [
      "입력한 수는 100\n",
      "100을 입력한 정수로 나누면 1.00입니다\n"
     ]
    }
   ],
   "source": [
    "# 100을 입력받은 정수값으로 나눠 출력한다. 유효한 숫자를 입력할때까지 반복하여 수를 입력받음\n",
    "while True:\n",
    "    try:\n",
    "        x = int(input('100을 나눌 정수를 입력하세요 >> '))\n",
    "        print(\"입력한 수는 {}\".format(x))\n",
    "        print(\"100을 입력한 정수로 나누면 {:.2f}입니다\".format( 100/x ))\n",
    "        break\n",
    "    except (ValueError, ZeroDivisionError):\n",
    "        print('0이 아닌 정수를 입력하세요.')\n",
    "    except Exception:\n",
    "        print('정수를 입력하세요.')"
   ]
  },
  {
   "cell_type": "code",
   "execution_count": 23,
   "id": "718d140f-207b-4fea-8b63-ecd7f2e1b594",
   "metadata": {},
   "outputs": [
    {
     "name": "stdin",
     "output_type": "stream",
     "text": [
      "100을 나눌 정수를 입력하세요 >>  0\n"
     ]
    },
    {
     "name": "stdout",
     "output_type": "stream",
     "text": [
      "입력한 수는 0\n",
      "division by zero\n",
      "예외 객체의 타입 : <class 'ZeroDivisionError'>\n",
      "예외 메시지 e.args : ('division by zero',)\n"
     ]
    },
    {
     "name": "stdin",
     "output_type": "stream",
     "text": [
      "100을 나눌 정수를 입력하세요 >>  ㅁ\n"
     ]
    },
    {
     "name": "stdout",
     "output_type": "stream",
     "text": [
      "invalid literal for int() with base 10: 'ㅁ'\n",
      "예외 객체의 타입 : <class 'ValueError'>\n",
      "예외 메시지 e.args : (\"invalid literal for int() with base 10: 'ㅁ'\",)\n"
     ]
    },
    {
     "name": "stdin",
     "output_type": "stream",
     "text": [
      "100을 나눌 정수를 입력하세요 >>  10\n"
     ]
    },
    {
     "name": "stdout",
     "output_type": "stream",
     "text": [
      "입력한 수는 10\n",
      "100을 입력한 정수로 나누면 10.00입니다\n"
     ]
    }
   ],
   "source": [
    "# 100을 입력받은 정수값으로 나눠 출력한다. 유효한 숫자를 입력할때까지 반복하여 수를 입력받음\n",
    "while True:\n",
    "    try:\n",
    "        x = int(input('100을 나눌 정수를 입력하세요 >> '))\n",
    "        print(\"입력한 수는 {}\".format(x))\n",
    "        print(\"100을 입력한 정수로 나누면 {:.2f}입니다\".format( 100/x ))\n",
    "        break\n",
    "    except (ValueError, ZeroDivisionError) as e:\n",
    "        #print('정수를 입력하세요.')\n",
    "        print(e) # print(e.__str__)\n",
    "        print('예외 객체의 타입 :', type(e))\n",
    "        print('예외 메시지 e.args :', e.args)"
   ]
  },
  {
   "cell_type": "code",
   "execution_count": 24,
   "id": "5c36e7d5-d1d4-4346-9f6b-3e63fd9e8608",
   "metadata": {},
   "outputs": [
    {
     "name": "stdout",
     "output_type": "stream",
     "text": [
      "this is test file\n",
      "Hello, Python\n",
      "테스트 파일입니다.\n"
     ]
    }
   ],
   "source": [
    "try:\n",
    "    f = open('data/ch08.txt', 'r', encoding='utf-8')\n",
    "    data = f.read()\n",
    "    print(data)\n",
    "except FileNotFoundError as e:\n",
    "    print(e)\n",
    "finally:\n",
    "    f.close() #중요 : 쓰기 시 저장하기 위함"
   ]
  },
  {
   "cell_type": "code",
   "execution_count": 25,
   "id": "ef2f891a-da38-450a-9404-17820a3f7831",
   "metadata": {},
   "outputs": [
    {
     "name": "stdout",
     "output_type": "stream",
     "text": [
      "this is test file\n",
      "Hello, Python\n",
      "테스트 파일입니다.\n"
     ]
    }
   ],
   "source": [
    "try:\n",
    "    f = open('data/ch08.txt', 'r', encoding='utf-8')\n",
    "    data = f.read()\n",
    "    # print(data)\n",
    "except FileNotFoundError as e:\n",
    "    print(e)\n",
    "else:\n",
    "    print(data)\n",
    "finally:\n",
    "    f.close() #중요 : 쓰기 시 저장하기 위함"
   ]
  },
  {
   "cell_type": "markdown",
   "id": "e22c120b-0d9e-4791-b455-47b6ee54b556",
   "metadata": {},
   "source": [
    "# 3절. 강제로 예외 발생시키기(raise)"
   ]
  },
  {
   "cell_type": "code",
   "execution_count": 27,
   "id": "cb20b2b4-374b-4100-8c57-156e1198297a",
   "metadata": {},
   "outputs": [
    {
     "ename": "Exception",
     "evalue": "예외가 발생했어요.",
     "output_type": "error",
     "traceback": [
      "\u001b[1;31m---------------------------------------------------------------------------\u001b[0m",
      "\u001b[1;31mException\u001b[0m                                 Traceback (most recent call last)",
      "Cell \u001b[1;32mIn[27], line 1\u001b[0m\n\u001b[1;32m----> 1\u001b[0m \u001b[38;5;28;01mraise\u001b[39;00m \u001b[38;5;167;01mException\u001b[39;00m(\u001b[38;5;124m\"\u001b[39m\u001b[38;5;124m예외가 발생했어요.\u001b[39m\u001b[38;5;124m\"\u001b[39m)\n",
      "\u001b[1;31mException\u001b[0m: 예외가 발생했어요."
     ]
    }
   ],
   "source": [
    "raise Exception(\"예외가 발생했어요.\")"
   ]
  },
  {
   "cell_type": "code",
   "execution_count": 33,
   "id": "8976c406-9e55-49f0-b0f1-068ef32da128",
   "metadata": {},
   "outputs": [],
   "source": [
    "# 시용자 정의 예외 타입\n",
    "class LengthZeroError(Exception):\n",
    "    \"길이가 0일때 발생하는 예외\"\n",
    "    def __init__(self):\n",
    "        super().__init__(\"매개변수 길이가 0이면 예외\")\n",
    "    #pass   \n",
    "    "
   ]
  },
  {
   "cell_type": "code",
   "execution_count": 34,
   "id": "52b920bf-e139-4584-b454-57e00d956833",
   "metadata": {},
   "outputs": [
    {
     "ename": "LengthZeroError",
     "evalue": "매개변수 길이가 0이면 예외",
     "output_type": "error",
     "traceback": [
      "\u001b[1;31m---------------------------------------------------------------------------\u001b[0m",
      "\u001b[1;31mLengthZeroError\u001b[0m                           Traceback (most recent call last)",
      "Cell \u001b[1;32mIn[34], line 1\u001b[0m\n\u001b[1;32m----> 1\u001b[0m \u001b[38;5;28;01mraise\u001b[39;00m LengthZeroError()\n",
      "\u001b[1;31mLengthZeroError\u001b[0m: 매개변수 길이가 0이면 예외"
     ]
    }
   ],
   "source": [
    "raise LengthZeroError()"
   ]
  },
  {
   "cell_type": "code",
   "execution_count": 37,
   "id": "6c7dcee6-2f85-4bab-8e95-75a46b884c91",
   "metadata": {},
   "outputs": [],
   "source": [
    "def insert(*data): # tuple 매개변수\n",
    "    if len(data)==0 :\n",
    "        raise LengthZeroError()\n",
    "    for item in data:\n",
    "        print(item, end=\" \")\n",
    "    print(\"등을 입력하셨습니다.\")"
   ]
  },
  {
   "cell_type": "code",
   "execution_count": 38,
   "id": "ad3babe5-221c-46e2-820b-bba2bfe5a22d",
   "metadata": {},
   "outputs": [
    {
     "name": "stdout",
     "output_type": "stream",
     "text": [
      "2 3 4 등을 입력하셨습니다.\n"
     ]
    }
   ],
   "source": [
    "insert(2,3,4)"
   ]
  },
  {
   "cell_type": "code",
   "execution_count": 39,
   "id": "5a6962f1-5b42-410a-8df7-8f3510976d22",
   "metadata": {},
   "outputs": [
    {
     "name": "stdout",
     "output_type": "stream",
     "text": [
      "1 2 3 등을 입력하셨습니다.\n"
     ]
    }
   ],
   "source": [
    "l = (1,2,3)\n",
    "insert(*l)"
   ]
  },
  {
   "cell_type": "markdown",
   "id": "c3cfac1e-53a0-4312-8b06-bf584aa7d53f",
   "metadata": {},
   "source": [
    "# 4절. 파일 정리 작업(with절 이용)"
   ]
  },
  {
   "cell_type": "code",
   "execution_count": 42,
   "id": "06934871-e426-4ce8-bbc2-735ebadae382",
   "metadata": {},
   "outputs": [
    {
     "name": "stdout",
     "output_type": "stream",
     "text": [
      "['this is test file\\n', 'Hello, Python\\n', '테스트 파일입니다.']\n"
     ]
    }
   ],
   "source": [
    "# 파일 입출력시 자원 반납 필수(close)\n",
    "try:\n",
    "    f = open('data/ch08.txt', 'r',encoding=\"UTF-8\")\n",
    "    lines = f.readlines() ## 한줄한줄 모든 줄을 리스트 형태로 반환\n",
    "    print(lines)\n",
    "except Exception:\n",
    "    print('없는 파일이거나 encoding 확인 요망.', e)\n",
    "finally:\n",
    "    f.close()"
   ]
  },
  {
   "cell_type": "code",
   "execution_count": 45,
   "id": "3c23f2c1-0a41-4f0a-acbd-0897550b7577",
   "metadata": {},
   "outputs": [
    {
     "name": "stdout",
     "output_type": "stream",
     "text": [
      "['this is test file\\n', 'Hello, Python\\n', '테스트 파일입니다.']\n"
     ]
    }
   ],
   "source": [
    "# with절로 이용시 자동적으로 close() 실행\n",
    "with open('data/ch08.txt', 'r', encoding=\"UTF-8\")as f:\n",
    "    lines = f.readlines()\n",
    "print(lines)"
   ]
  },
  {
   "cell_type": "markdown",
   "id": "b50f2c6b-56e8-4071-98fb-dfbbd3c741dd",
   "metadata": {},
   "source": [
    "# 연습문제"
   ]
  },
  {
   "cell_type": "code",
   "execution_count": null,
   "id": "0c8f8a35-ed28-47c4-9451-719d21baf8ee",
   "metadata": {},
   "outputs": [],
   "source": [
    "# 연습문제1"
   ]
  },
  {
   "cell_type": "code",
   "execution_count": null,
   "id": "087368d0-9445-41bf-92f1-6527e1285c02",
   "metadata": {},
   "outputs": [],
   "source": []
  },
  {
   "cell_type": "code",
   "execution_count": null,
   "id": "523e64a9-0087-45b7-adfa-b02bcc4f7048",
   "metadata": {},
   "outputs": [],
   "source": []
  },
  {
   "cell_type": "code",
   "execution_count": null,
   "id": "1f374099-a9b9-4963-9146-7343af8cdcc8",
   "metadata": {},
   "outputs": [],
   "source": []
  },
  {
   "cell_type": "code",
   "execution_count": null,
   "id": "72abd56d-89fd-493d-bbe0-24941f44dae7",
   "metadata": {},
   "outputs": [],
   "source": []
  },
  {
   "cell_type": "code",
   "execution_count": null,
   "id": "24454bb9-b3aa-44f5-8d3f-2696ff99b05b",
   "metadata": {},
   "outputs": [],
   "source": []
  }
 ],
 "metadata": {
  "kernelspec": {
   "display_name": "Python 3 (ipykernel)",
   "language": "python",
   "name": "python3"
  },
  "language_info": {
   "codemirror_mode": {
    "name": "ipython",
    "version": 3
   },
   "file_extension": ".py",
   "mimetype": "text/x-python",
   "name": "python",
   "nbconvert_exporter": "python",
   "pygments_lexer": "ipython3",
   "version": "3.11.7"
  }
 },
 "nbformat": 4,
 "nbformat_minor": 5
}
