{
 "cells": [
  {
   "cell_type": "markdown",
   "id": "ffb519e0-a932-42c0-bd36-7f9ddc131c3c",
   "metadata": {},
   "source": [
    "<font size=\"7\" color=\"red\"><b>ch02. 자료형과 연산자</b></font>"
   ]
  },
  {
   "cell_type": "markdown",
   "id": "730337e4-0650-4885-b251-2f98434d6802",
   "metadata": {},
   "source": [
    "# 1절. 변수\n",
    "## 1.1 변수선언\n",
    "    - 별도의 변수 선언과정 없음\n",
    "## 1.2 변수 할당\n",
    "    - 대입연산자(=) 사용"
   ]
  },
  {
   "cell_type": "code",
   "execution_count": 7,
   "id": "879ad8ec-4d95-4799-8400-fc6d457f8576",
   "metadata": {},
   "outputs": [
    {
     "name": "stdout",
     "output_type": "stream",
     "text": [
      "제공되는 pi값은 3.141592653589793\n",
      "계산된 넓이는 78.53981633974483\n",
      "area타입은 <class 'float'>\n",
      "area 주소는 1273592635920\n"
     ]
    }
   ],
   "source": [
    "import numpy as np\n",
    "print('제공되는 pi값은', np.pi)\n",
    "r = 5\n",
    "area = np.pi * r * r\n",
    "# printf(\"계산된 넓이는 %lf\", area)\n",
    "print(\"계산된 넓이는\", area)\n",
    "print('area타입은', type(area) )\n",
    "print('area 주소는', id(area))"
   ]
  },
  {
   "cell_type": "code",
   "execution_count": 8,
   "id": "296ba3b5-c510-4ad9-8fc3-cf946201fc39",
   "metadata": {},
   "outputs": [
    {
     "name": "stdout",
     "output_type": "stream",
     "text": [
      "area 값은 10\n",
      "area타입은 <class 'int'>\n",
      "area 주소는 140727940924488\n"
     ]
    }
   ],
   "source": [
    "area = 10\n",
    "print(\"area 값은\", area)\n",
    "print('area타입은', type(area) )\n",
    "print('area 주소는', id(area))"
   ]
  },
  {
   "cell_type": "code",
   "execution_count": 9,
   "id": "62bee36e-243f-4997-a830-afbf0ca0f475",
   "metadata": {},
   "outputs": [
    {
     "name": "stdout",
     "output_type": "stream",
     "text": [
      "area 값은 파이썬은 좋아요\n",
      "area타입은 <class 'str'>\n",
      "area 주소는 1273563428880\n"
     ]
    }
   ],
   "source": [
    "area = '파이썬은 좋아요'\n",
    "print(\"area 값은\", area)\n",
    "print('area타입은', type(area) )\n",
    "print('area 주소는', id(area))"
   ]
  },
  {
   "cell_type": "markdown",
   "id": "3d352eb7-0fba-42c1-9123-77e1e874222b",
   "metadata": {},
   "source": [
    "## 1.3 변수이름 규칙\n",
    "    - 문자(특수문자는 _제외하고 안됨), 숫자, _로 명명.\n",
    "    - 문자로 시작\n",
    "    - 파이썬에서 제공되는 기본 함수명 피하자. 꼭 써야한다면 int_식으로 _를 붙임\n",
    "    - 파이썬 예약어는 변수명 불가(ex. if)"
   ]
  },
  {
   "cell_type": "code",
   "execution_count": 10,
   "id": "e8bda766-831e-4600-8c38-26d372652589",
   "metadata": {},
   "outputs": [
    {
     "data": {
      "text/plain": [
       "'북한'"
      ]
     },
     "execution_count": 10,
     "metadata": {},
     "output_type": "execute_result"
    }
   ],
   "source": [
    "불용어 = '북한'\n",
    "불용어"
   ]
  },
  {
   "cell_type": "code",
   "execution_count": 11,
   "id": "10b70f2f-8751-47b9-bc04-f9e0432a8d14",
   "metadata": {},
   "outputs": [
    {
     "ename": "SyntaxError",
     "evalue": "invalid syntax (1720054281.py, line 1)",
     "output_type": "error",
     "traceback": [
      "\u001b[1;36m  Cell \u001b[1;32mIn[11], line 1\u001b[1;36m\u001b[0m\n\u001b[1;33m    if = 4\u001b[0m\n\u001b[1;37m       ^\u001b[0m\n\u001b[1;31mSyntaxError\u001b[0m\u001b[1;31m:\u001b[0m invalid syntax\n"
     ]
    }
   ],
   "source": [
    "if = 4"
   ]
  },
  {
   "cell_type": "code",
   "execution_count": 12,
   "id": "96b43b0e-5c0b-4b24-a6ba-c19f74cc1cd9",
   "metadata": {},
   "outputs": [
    {
     "name": "stdout",
     "output_type": "stream",
     "text": [
      "북한\n"
     ]
    }
   ],
   "source": [
    "print(불용어)"
   ]
  },
  {
   "cell_type": "code",
   "execution_count": 18,
   "id": "5ea1cbca-783b-4aa2-9f80-a28f15bd4e19",
   "metadata": {},
   "outputs": [],
   "source": [
    "# 파이썬 변수는 함수 할당\n",
    "print = 5"
   ]
  },
  {
   "cell_type": "code",
   "execution_count": 19,
   "id": "38cf36a6-fc67-4401-a2c6-1a3942790d6e",
   "metadata": {},
   "outputs": [
    {
     "ename": "TypeError",
     "evalue": "'int' object is not callable",
     "output_type": "error",
     "traceback": [
      "\u001b[1;31m---------------------------------------------------------------------------\u001b[0m",
      "\u001b[1;31mTypeError\u001b[0m                                 Traceback (most recent call last)",
      "Cell \u001b[1;32mIn[19], line 1\u001b[0m\n\u001b[1;32m----> 1\u001b[0m \u001b[38;5;28mprint\u001b[39m(불용어)\n",
      "\u001b[1;31mTypeError\u001b[0m: 'int' object is not callable"
     ]
    }
   ],
   "source": [
    "print(불용어)"
   ]
  },
  {
   "cell_type": "code",
   "execution_count": 20,
   "id": "2316bd14-291f-4f26-ae71-596b4df4f5e2",
   "metadata": {},
   "outputs": [],
   "source": [
    "del print # print 변수 삭제"
   ]
  },
  {
   "cell_type": "code",
   "execution_count": 21,
   "id": "edd55533-2dbf-4769-bbb7-089f97db05ed",
   "metadata": {},
   "outputs": [
    {
     "name": "stdout",
     "output_type": "stream",
     "text": [
      "북한\n"
     ]
    }
   ],
   "source": [
    "print(불용어)"
   ]
  },
  {
   "cell_type": "code",
   "execution_count": 22,
   "id": "064f6471-9c94-430c-9f01-4671dc2ea16e",
   "metadata": {},
   "outputs": [
    {
     "data": {
      "text/plain": [
       "complex"
      ]
     },
     "execution_count": 22,
     "metadata": {},
     "output_type": "execute_result"
    }
   ],
   "source": [
    "i = 3 + 3j # 복소수\n",
    "type(i)"
   ]
  },
  {
   "cell_type": "code",
   "execution_count": 23,
   "id": "99b730c4-9f32-49ce-aaf2-65d49dea87bb",
   "metadata": {},
   "outputs": [],
   "source": [
    "a = 10\n",
    "b = 20"
   ]
  },
  {
   "cell_type": "code",
   "execution_count": 24,
   "id": "0cc41a99-b5f2-472f-9cc2-a8b9ba5cd187",
   "metadata": {},
   "outputs": [],
   "source": [
    "a, b = 10, 20 # 다중 선언"
   ]
  },
  {
   "cell_type": "code",
   "execution_count": 25,
   "id": "df1d5a03-b040-4fdf-aa8e-08033eb1d321",
   "metadata": {},
   "outputs": [
    {
     "data": {
      "text/plain": [
       "(10, 20)"
      ]
     },
     "execution_count": 25,
     "metadata": {},
     "output_type": "execute_result"
    }
   ],
   "source": [
    "a, b"
   ]
  },
  {
   "cell_type": "code",
   "execution_count": 26,
   "id": "eeb42c9c-1627-4010-a423-376eb97fea11",
   "metadata": {},
   "outputs": [
    {
     "name": "stdout",
     "output_type": "stream",
     "text": [
      "a= 20 \t b= 30\n"
     ]
    }
   ],
   "source": [
    "a, b = b, a+b # 다중 선언\n",
    "print('a=',a,'\\t b=', b)"
   ]
  },
  {
   "cell_type": "markdown",
   "id": "ffc34eaa-978a-4370-aae8-98bdf862140c",
   "metadata": {},
   "source": [
    "## 1.4 도움말"
   ]
  },
  {
   "cell_type": "code",
   "execution_count": 27,
   "id": "5bbdfcd2-bbef-4b50-84d4-f56767f71e35",
   "metadata": {},
   "outputs": [
    {
     "name": "stdout",
     "output_type": "stream",
     "text": [
      "Help on built-in function print in module builtins:\n",
      "\n",
      "print(*args, sep=' ', end='\\n', file=None, flush=False)\n",
      "    Prints the values to a stream, or to sys.stdout by default.\n",
      "    \n",
      "    sep\n",
      "      string inserted between values, default a space.\n",
      "    end\n",
      "      string appended after the last value, default a newline.\n",
      "    file\n",
      "      a file-like object (stream); defaults to the current sys.stdout.\n",
      "    flush\n",
      "      whether to forcibly flush the stream.\n",
      "\n"
     ]
    }
   ],
   "source": [
    "help(print)"
   ]
  },
  {
   "cell_type": "code",
   "execution_count": 28,
   "id": "245a0af9-e3aa-4e8d-9748-adaf653ac5e2",
   "metadata": {},
   "outputs": [
    {
     "data": {
      "text/plain": [
       "\u001b[1;31mSignature:\u001b[0m \u001b[0mprint\u001b[0m\u001b[1;33m(\u001b[0m\u001b[1;33m*\u001b[0m\u001b[0margs\u001b[0m\u001b[1;33m,\u001b[0m \u001b[0msep\u001b[0m\u001b[1;33m=\u001b[0m\u001b[1;34m' '\u001b[0m\u001b[1;33m,\u001b[0m \u001b[0mend\u001b[0m\u001b[1;33m=\u001b[0m\u001b[1;34m'\\n'\u001b[0m\u001b[1;33m,\u001b[0m \u001b[0mfile\u001b[0m\u001b[1;33m=\u001b[0m\u001b[1;32mNone\u001b[0m\u001b[1;33m,\u001b[0m \u001b[0mflush\u001b[0m\u001b[1;33m=\u001b[0m\u001b[1;32mFalse\u001b[0m\u001b[1;33m)\u001b[0m\u001b[1;33m\u001b[0m\u001b[1;33m\u001b[0m\u001b[0m\n",
       "\u001b[1;31mDocstring:\u001b[0m\n",
       "Prints the values to a stream, or to sys.stdout by default.\n",
       "\n",
       "sep\n",
       "  string inserted between values, default a space.\n",
       "end\n",
       "  string appended after the last value, default a newline.\n",
       "file\n",
       "  a file-like object (stream); defaults to the current sys.stdout.\n",
       "flush\n",
       "  whether to forcibly flush the stream.\n",
       "\u001b[1;31mType:\u001b[0m      builtin_function_or_method"
      ]
     },
     "metadata": {},
     "output_type": "display_data"
    }
   ],
   "source": [
    "print?"
   ]
  },
  {
   "cell_type": "code",
   "execution_count": 30,
   "id": "0750e6ff-41c6-488c-92fd-e6b82fbb12c1",
   "metadata": {},
   "outputs": [
    {
     "name": "stdout",
     "output_type": "stream",
     "text": [
      "a~b\n"
     ]
    }
   ],
   "source": [
    "# 도움말 기능 : 함수내에서 shift+tab키\n",
    "print('a','b', sep='~')"
   ]
  },
  {
   "cell_type": "code",
   "execution_count": 31,
   "id": "2ddfe91f-745f-40cc-aa4c-69f7116453ed",
   "metadata": {},
   "outputs": [],
   "source": [
    "def make_number(x, y=0):\n",
    "    \"\"\"doc string(함수의 도움말)\n",
    "    매개변수 2개를 이용해서 2자리 정수를 만들어요\n",
    "    x = 10의 자리수\n",
    "    y = 1의 자리수 (default값 0)\n",
    "    \"\"\"\n",
    "    return x*10 + y"
   ]
  },
  {
   "cell_type": "code",
   "execution_count": 32,
   "id": "a3765b72-2348-46d1-a7a0-105a029572eb",
   "metadata": {},
   "outputs": [
    {
     "data": {
      "text/plain": [
       "32"
      ]
     },
     "execution_count": 32,
     "metadata": {},
     "output_type": "execute_result"
    }
   ],
   "source": [
    "make_number(3, 2)"
   ]
  },
  {
   "cell_type": "code",
   "execution_count": 33,
   "id": "15b15836-ffcd-401c-9c6d-745ecdf2f30e",
   "metadata": {},
   "outputs": [
    {
     "data": {
      "text/plain": [
       "50"
      ]
     },
     "execution_count": 33,
     "metadata": {},
     "output_type": "execute_result"
    }
   ],
   "source": [
    "make_number(5)"
   ]
  },
  {
   "cell_type": "code",
   "execution_count": 34,
   "id": "77fe4ccf-9c94-4f17-89df-add99962903c",
   "metadata": {},
   "outputs": [],
   "source": [
    "make = make_number # 함수를 변수에 할당"
   ]
  },
  {
   "cell_type": "code",
   "execution_count": 35,
   "id": "3d45babf-bda7-4433-862e-fbade6df0fde",
   "metadata": {},
   "outputs": [
    {
     "data": {
      "text/plain": [
       "60"
      ]
     },
     "execution_count": 35,
     "metadata": {},
     "output_type": "execute_result"
    }
   ],
   "source": [
    "make(6)"
   ]
  },
  {
   "cell_type": "markdown",
   "id": "5d692c1d-7c96-41f3-98f0-c53300ffc4d5",
   "metadata": {},
   "source": [
    "## 1.5 변수 삭제"
   ]
  },
  {
   "cell_type": "code",
   "execution_count": 36,
   "id": "e29ab697-f8bc-4ccb-892a-c4c0355e9a12",
   "metadata": {},
   "outputs": [],
   "source": [
    "del make"
   ]
  },
  {
   "cell_type": "code",
   "execution_count": 73,
   "id": "3ebe3317-22de-4292-a1ee-e0fc982bc4ce",
   "metadata": {
    "scrolled": true
   },
   "outputs": [
    {
     "ename": "NameError",
     "evalue": "name 'make' is not defined",
     "output_type": "error",
     "traceback": [
      "\u001b[1;31m---------------------------------------------------------------------------\u001b[0m",
      "\u001b[1;31mNameError\u001b[0m                                 Traceback (most recent call last)",
      "Cell \u001b[1;32mIn[73], line 1\u001b[0m\n\u001b[1;32m----> 1\u001b[0m make(\u001b[38;5;241m6\u001b[39m)\n",
      "\u001b[1;31mNameError\u001b[0m: name 'make' is not defined"
     ]
    }
   ],
   "source": [
    "make(6)"
   ]
  },
  {
   "cell_type": "markdown",
   "id": "b55452ba-c39e-465e-ad50-36413f6b212a",
   "metadata": {},
   "source": [
    "# 2절. 화면 I/O"
   ]
  },
  {
   "cell_type": "code",
   "execution_count": 44,
   "id": "c24155e7-ab18-414a-a191-0bc136b0a071",
   "metadata": {},
   "outputs": [
    {
     "name": "stdin",
     "output_type": "stream",
     "text": [
      "첫번째 숫자는? 20\n",
      "두번째 숫자는? 1\n"
     ]
    }
   ],
   "source": [
    "first = int(input('첫번째 숫자는?')) # 문자로 return\n",
    "second = int(input('두번째 숫자는?'))"
   ]
  },
  {
   "cell_type": "code",
   "execution_count": 45,
   "id": "f7d7f869-e699-4398-b217-e402e48627a4",
   "metadata": {},
   "outputs": [
    {
     "name": "stdout",
     "output_type": "stream",
     "text": [
      "두수의 합은 21\n"
     ]
    }
   ],
   "source": [
    "print('두수의 합은 {}'.format(first+second)) #문자+문자"
   ]
  },
  {
   "cell_type": "code",
   "execution_count": 48,
   "id": "0dce8407-7947-4696-8115-2c9163ca37b8",
   "metadata": {},
   "outputs": [
    {
     "name": "stdout",
     "output_type": "stream",
     "text": [
      "Hello~world, Hello Python\n"
     ]
    }
   ],
   "source": [
    "print('Hello', 'world', sep='~', end=', ')\n",
    "print('Hello', 'Python')"
   ]
  },
  {
   "cell_type": "markdown",
   "id": "23456784-2151-43e5-8d0c-218b8ca4edbf",
   "metadata": {},
   "source": [
    "# 3절. 기본 자료형"
   ]
  },
  {
   "cell_type": "markdown",
   "id": "925f26d9-8901-40e4-859c-4e3a5cdf9a50",
   "metadata": {},
   "source": [
    "## 3.1 숫자형"
   ]
  },
  {
   "cell_type": "code",
   "execution_count": 43,
   "id": "6462d2e4-7ef8-4de8-b69a-3495c4f6b6f3",
   "metadata": {},
   "outputs": [
    {
     "name": "stdout",
     "output_type": "stream",
     "text": [
      "9223372036854775807\n"
     ]
    }
   ],
   "source": [
    "import sys\n",
    "print(sys.maxsize) # 모든 크기의 정수를 다 처리 가능"
   ]
  },
  {
   "cell_type": "code",
   "execution_count": 44,
   "id": "713521f0-6e69-491e-9bd5-52fd3baf89dd",
   "metadata": {},
   "outputs": [
    {
     "name": "stdout",
     "output_type": "stream",
     "text": [
      "값 : 9223372036854775817 / 주소 : 2005205100048\n",
      "<class 'int'>\n"
     ]
    }
   ],
   "source": [
    "a = sys.maxsize + 10\n",
    "print(\"값 : {} / 주소 : {}\".format(a, id(a)))\n",
    "print(type(a))"
   ]
  },
  {
   "cell_type": "code",
   "execution_count": 45,
   "id": "e315fa7a-afa4-441d-9c13-f326d21c5591",
   "metadata": {},
   "outputs": [
    {
     "name": "stdout",
     "output_type": "stream",
     "text": [
      "값 : 1 / 주소 : 140732690187048\n",
      "<class 'int'>\n"
     ]
    }
   ],
   "source": [
    "a = 1\n",
    "print(\"값 : {} / 주소 : {}\".format(a, id(a)))\n",
    "print(type(a))"
   ]
  },
  {
   "cell_type": "code",
   "execution_count": 48,
   "id": "8334cbf4-5982-43ab-b822-5330972f2c35",
   "metadata": {},
   "outputs": [
    {
     "name": "stdout",
     "output_type": "stream",
     "text": [
      "값 : 1.5 / 주소 : 2005155230064\n",
      "<class 'float'>\n"
     ]
    }
   ],
   "source": [
    "a = 3/2 # 정수형 / 정수형 => 실수형(float)\n",
    "print(\"값 : {} / 주소 : {}\".format(a, id(a)))\n",
    "print(type(a))"
   ]
  },
  {
   "cell_type": "code",
   "execution_count": 50,
   "id": "cc9253b0-aa28-483e-b7bb-7f5fd55c9a02",
   "metadata": {},
   "outputs": [
    {
     "name": "stdout",
     "output_type": "stream",
     "text": [
      "값 : 1 / 주소 : 140732690187048\n",
      "<class 'int'>\n"
     ]
    }
   ],
   "source": [
    "a = int(3/2) # 명시적인 형변환\n",
    "a = 3 // 2 # 몫을 가져오는 연산자\n",
    "print(\"값 : {} / 주소 : {}\".format(a, id(a)))\n",
    "print(type(a))"
   ]
  },
  {
   "cell_type": "code",
   "execution_count": 53,
   "id": "c905629b-e1a2-4566-ab08-b1932a36e9d1",
   "metadata": {},
   "outputs": [
    {
     "name": "stdout",
     "output_type": "stream",
     "text": [
      "1.12e+20\n",
      "1.12e-20\n"
     ]
    }
   ],
   "source": [
    "# 지수형 표현\n",
    "f = 1.12e20 # 1.12의 10의 20승\n",
    "print(f)\n",
    "\n",
    "f = 1.12e-20 # 1.12의 10의 -20승\n",
    "print(f)"
   ]
  },
  {
   "cell_type": "raw",
   "id": "d34c227e-b893-4a13-a5a7-3cd41f2eee2f",
   "metadata": {},
   "source": []
  },
  {
   "cell_type": "markdown",
   "id": "931c201c-96c6-43f8-a0f8-0a390a2e1537",
   "metadata": {},
   "source": [
    "## 3.2 문자형"
   ]
  },
  {
   "cell_type": "code",
   "execution_count": 55,
   "id": "0fc2a1e6-904b-4c82-93a4-a59bc7b121b7",
   "metadata": {},
   "outputs": [
    {
     "name": "stdout",
     "output_type": "stream",
     "text": [
      "홍길동\"님\" 서울시 \"금천구\" 가산디지털1로\n"
     ]
    }
   ],
   "source": [
    "name = \"홍길동'님'\"\n",
    "name = '홍길동\"님\"'\n",
    "address = \"서울시 \\\"금천구\\\" \\\n",
    "가산디지털1로\"\n",
    "# \\ 다음줄로 계속\n",
    "print(name, address)"
   ]
  },
  {
   "cell_type": "code",
   "execution_count": 56,
   "id": "dc7d7782-e932-4ce4-a7d4-5a6443f37750",
   "metadata": {},
   "outputs": [
    {
     "name": "stdout",
     "output_type": "stream",
     "text": [
      "안녕하세요\n",
      "홍길동입니다\n",
      "반갑습니다.\n"
     ]
    }
   ],
   "source": [
    "text = \"안녕하세요\\n홍길동입니다\\n반갑습니다.\"\n",
    "print(text)"
   ]
  },
  {
   "cell_type": "code",
   "execution_count": 58,
   "id": "9e2e0683-32d4-4a90-9d95-cb08407e5809",
   "metadata": {},
   "outputs": [
    {
     "name": "stdout",
     "output_type": "stream",
     "text": [
      "안녕하세요\n",
      "홍길동입니다\n",
      "반갑습니다\n",
      "\n"
     ]
    }
   ],
   "source": [
    "text = \"\"\"안녕하세요\n",
    "홍길동입니다\n",
    "반갑습니다\n",
    "\"\"\"\n",
    "print(text)"
   ]
  },
  {
   "cell_type": "code",
   "execution_count": 59,
   "id": "826a405f-4ffa-4666-913f-8f530576bd3a",
   "metadata": {},
   "outputs": [
    {
     "data": {
      "text/plain": [
       "'0123456789'"
      ]
     },
     "execution_count": 59,
     "metadata": {},
     "output_type": "execute_result"
    }
   ],
   "source": [
    "# 문자열 슬라이싱\n",
    "str_ = \"0123456789\"\n",
    "str_"
   ]
  },
  {
   "cell_type": "code",
   "execution_count": 60,
   "id": "347be694-a226-4f87-aa92-992d1df0454e",
   "metadata": {},
   "outputs": [
    {
     "data": {
      "text/plain": [
       "'012'"
      ]
     },
     "execution_count": 60,
     "metadata": {},
     "output_type": "execute_result"
    }
   ],
   "source": [
    "str_[0:3] # 0번째 인덱스'부터' 3번째 '앞'까지"
   ]
  },
  {
   "cell_type": "code",
   "execution_count": 64,
   "id": "9e918ad9-e61e-410f-a881-8f370cced518",
   "metadata": {},
   "outputs": [
    {
     "data": {
      "text/plain": [
       "'8'"
      ]
     },
     "execution_count": 64,
     "metadata": {},
     "output_type": "execute_result"
    }
   ],
   "source": [
    "str_[-2] # 음수 인덱스는 뒤어세 부터 인덱스 '번째' 숫자"
   ]
  },
  {
   "cell_type": "code",
   "execution_count": 63,
   "id": "5fe14c2e-ab5a-4221-9eb1-f363c65cc086",
   "metadata": {},
   "outputs": [
    {
     "data": {
      "text/plain": [
       "'5678'"
      ]
     },
     "execution_count": 63,
     "metadata": {},
     "output_type": "execute_result"
    }
   ],
   "source": [
    "str_[-5:-1]"
   ]
  },
  {
   "cell_type": "code",
   "execution_count": 65,
   "id": "bf5dced5-4d4b-40dd-8800-55f496b6ffa3",
   "metadata": {},
   "outputs": [
    {
     "data": {
      "text/plain": [
       "'56789'"
      ]
     },
     "execution_count": 65,
     "metadata": {},
     "output_type": "execute_result"
    }
   ],
   "source": [
    "str_[5:] # 5번째 인덱스부터 끝까지"
   ]
  },
  {
   "cell_type": "code",
   "execution_count": 66,
   "id": "f93b0d1f-1ecd-4146-a9d8-2df7d163da92",
   "metadata": {},
   "outputs": [
    {
     "data": {
      "text/plain": [
       "'01234'"
      ]
     },
     "execution_count": 66,
     "metadata": {},
     "output_type": "execute_result"
    }
   ],
   "source": [
    "str_[:-5] # 처음부터 -5번째 '앞'까지"
   ]
  },
  {
   "cell_type": "code",
   "execution_count": 67,
   "id": "91d5edbc-0de1-42e9-a575-12c2e9239cc2",
   "metadata": {},
   "outputs": [
    {
     "data": {
      "text/plain": [
       "'56789'"
      ]
     },
     "execution_count": 67,
     "metadata": {},
     "output_type": "execute_result"
    }
   ],
   "source": [
    "# str_[19] => error\n",
    "str_[5:19] # 슬라이싱은 인덱스를 벗어나면 끝까지 출력함"
   ]
  },
  {
   "cell_type": "code",
   "execution_count": 70,
   "id": "b6ecd997-1541-4593-a960-68881b521130",
   "metadata": {},
   "outputs": [
    {
     "name": "stdout",
     "output_type": "stream",
     "text": [
      "02468\n",
      "02468\n"
     ]
    }
   ],
   "source": [
    "# str_[from:to:step]\n",
    "print(str_[0:9:2]) # 0번째 부터 9번째 앞까지 2씩 인덱스 증가\n",
    "print(str_[::2]) # 처음부터 끝까지 2씩 인덱스 증가"
   ]
  },
  {
   "cell_type": "code",
   "execution_count": 72,
   "id": "be10e4f6-2b70-4b66-8175-10a010aba495",
   "metadata": {},
   "outputs": [
    {
     "name": "stdout",
     "output_type": "stream",
     "text": [
      "9876543210\n",
      "9876543210\n"
     ]
    }
   ],
   "source": [
    "# 끝부터 처음까지(거꾸로)\n",
    "print(str_[9::-1])\n",
    "print(str_[::-1])"
   ]
  },
  {
   "cell_type": "markdown",
   "id": "bad2f8a8-e521-4b10-8330-b3a346f473b9",
   "metadata": {},
   "source": [
    "## 3.2 논리형"
   ]
  },
  {
   "cell_type": "code",
   "execution_count": 74,
   "id": "51647c7a-0032-4bbb-a020-843ce35423eb",
   "metadata": {},
   "outputs": [
    {
     "name": "stdout",
     "output_type": "stream",
     "text": [
      "True\n",
      "<class 'bool'>\n",
      "True\n"
     ]
    }
   ],
   "source": [
    "a = True\n",
    "print(a)\n",
    "print(type(a))\n",
    "print(isinstance(a, bool)) # a가 boolean type의 객체냐?"
   ]
  },
  {
   "cell_type": "code",
   "execution_count": 76,
   "id": "ace9f735-a0bf-4a8e-a602-27a46d660b9c",
   "metadata": {},
   "outputs": [],
   "source": [
    "# False로 간주하는 것 : 0, None, \"\", '', [], (), {}\n",
    "# True로 간주하는 것 : \" \", '\\0'(null문자)"
   ]
  },
  {
   "cell_type": "code",
   "execution_count": 77,
   "id": "f8ecd4c7-43c0-467e-a617-e08fb139ec3b",
   "metadata": {},
   "outputs": [
    {
     "name": "stdout",
     "output_type": "stream",
     "text": [
      "False\n"
     ]
    }
   ],
   "source": [
    "if 0+0j:\n",
    "    print('True')\n",
    "else:\n",
    "    print('False')"
   ]
  },
  {
   "cell_type": "markdown",
   "id": "78c7b5d4-0007-4f95-bb1f-acd29806de06",
   "metadata": {},
   "source": [
    "## 3.4 자료형 확인 및 변환\n",
    "    - tpye() : 자료형 확인\n",
    "    - int() : 정수형 변환\n",
    "    - float() : 실수형 변환\n",
    "    - str() : 문자형 변환\n",
    "    - bool() : boolean형 변환"
   ]
  },
  {
   "cell_type": "code",
   "execution_count": 78,
   "id": "a0443d20-3bb7-4aa4-94c7-0a9bea6c0414",
   "metadata": {},
   "outputs": [
    {
     "ename": "ValueError",
     "evalue": "invalid literal for int() with base 10: ' '",
     "output_type": "error",
     "traceback": [
      "\u001b[1;31m---------------------------------------------------------------------------\u001b[0m",
      "\u001b[1;31mValueError\u001b[0m                                Traceback (most recent call last)",
      "Cell \u001b[1;32mIn[78], line 1\u001b[0m\n\u001b[1;32m----> 1\u001b[0m \u001b[38;5;28mint\u001b[39m(\u001b[38;5;124m'\u001b[39m\u001b[38;5;124m \u001b[39m\u001b[38;5;124m'\u001b[39m)\n",
      "\u001b[1;31mValueError\u001b[0m: invalid literal for int() with base 10: ' '"
     ]
    }
   ],
   "source": [
    "int(' ')"
   ]
  },
  {
   "cell_type": "code",
   "execution_count": 79,
   "id": "2d25ab76-c8e7-4286-a3d6-823a87c22c78",
   "metadata": {},
   "outputs": [
    {
     "ename": "ValueError",
     "evalue": "invalid literal for int() with base 10: '2,000'",
     "output_type": "error",
     "traceback": [
      "\u001b[1;31m---------------------------------------------------------------------------\u001b[0m",
      "\u001b[1;31mValueError\u001b[0m                                Traceback (most recent call last)",
      "Cell \u001b[1;32mIn[79], line 1\u001b[0m\n\u001b[1;32m----> 1\u001b[0m \u001b[38;5;28mint\u001b[39m(\u001b[38;5;124m'\u001b[39m\u001b[38;5;124m2,000\u001b[39m\u001b[38;5;124m'\u001b[39m)\n",
      "\u001b[1;31mValueError\u001b[0m: invalid literal for int() with base 10: '2,000'"
     ]
    }
   ],
   "source": [
    "int('2,000')"
   ]
  },
  {
   "cell_type": "code",
   "execution_count": 81,
   "id": "09b888a8-d501-498e-9144-b20ef6979eb8",
   "metadata": {},
   "outputs": [
    {
     "data": {
      "text/plain": [
       "0.0"
      ]
     },
     "execution_count": 81,
     "metadata": {},
     "output_type": "execute_result"
    }
   ],
   "source": [
    "float(True)\n",
    "float(False)"
   ]
  },
  {
   "cell_type": "markdown",
   "id": "446cd4d0-9e3c-4d40-8a71-39721fe09b0f",
   "metadata": {},
   "source": [
    "# 4절. 포맷팅"
   ]
  },
  {
   "cell_type": "code",
   "execution_count": 84,
   "id": "30b8d23f-91ca-4534-9266-11ad17cc7a97",
   "metadata": {},
   "outputs": [
    {
     "name": "stdout",
     "output_type": "stream",
     "text": [
      "이름은 홍길동       , 주소는 서울시 금천구\n"
     ]
    }
   ],
   "source": [
    "name = \"홍길동\"\n",
    "add = '서울시 금천구'\n",
    "print(\"이름은 {1:10}, 주소는 {0}\".format(add, name))"
   ]
  },
  {
   "cell_type": "code",
   "execution_count": 85,
   "id": "6921a1c4-25c5-450b-bdc7-1c71f3f33cc9",
   "metadata": {},
   "outputs": [
    {
     "name": "stdout",
     "output_type": "stream",
     "text": [
      "이름은 홍길동, 주소는 서울시 금천구\n"
     ]
    }
   ],
   "source": [
    "print(\"이름은 %s, 주소는 %s\"%(name, add))"
   ]
  },
  {
   "cell_type": "code",
   "execution_count": 87,
   "id": "7c9a4b69-9c9c-430e-aa1e-d45f8e7a0f09",
   "metadata": {},
   "outputs": [
    {
     "name": "stdout",
     "output_type": "stream",
     "text": [
      "이름은 홍길동, 주소는 서울시 금천구\n"
     ]
    }
   ],
   "source": [
    "print(f\"이름은 {name}, 주소는 {add}\")"
   ]
  },
  {
   "cell_type": "markdown",
   "id": "c3d69856-5a83-47ee-bfd2-68b338b9a2d4",
   "metadata": {},
   "source": [
    "format()함수\n",
    "- \"{[인덱스]:[공백대체문자][정렬방법][자릿수][타입]}\".foramt(변수명,...)\n",
    "```\n",
    "    - 정렬방법 : <(왼쪽정렬), >(오른쪽정렬), ^(가운데정렬)\n",
    "    - 타입 : d(10진수), x(16진수), b(2진수), f(실수), s(문자)\n",
    "```"
   ]
  },
  {
   "cell_type": "code",
   "execution_count": 91,
   "id": "66829d4b-bdf9-4f7d-b197-777fedff2d9d",
   "metadata": {},
   "outputs": [
    {
     "name": "stdout",
     "output_type": "stream",
     "text": [
      " [$$$$$$$$10], [He******************]\n"
     ]
    }
   ],
   "source": [
    "a = 10\n",
    "s = 'Hello'\n",
    "print(\" [{0:$>10d}], [{1:*<20.2}]\".format(a, s))"
   ]
  },
  {
   "cell_type": "markdown",
   "id": "625c8d7b-be95-4521-8e6d-663731e8a856",
   "metadata": {},
   "source": [
    "# 5절. 연산자"
   ]
  },
  {
   "cell_type": "markdown",
   "id": "ca0f2871-9e54-41ba-be5a-72c424889926",
   "metadata": {},
   "source": [
    "## 5.1 산술연산자 : + - / * //(몫) %(나머지) **(제곱)"
   ]
  },
  {
   "cell_type": "markdown",
   "id": "7520383c-2937-413d-a6fd-1e0514392512",
   "metadata": {},
   "source": [
    "## 5.2 할당연산자 : = += -= /= %=, ..."
   ]
  },
  {
   "cell_type": "markdown",
   "id": "615ce6cf-fd5b-4b99-8a39-ae713e4219df",
   "metadata": {},
   "source": [
    "## 5.3 논리연산자 : & snd | or not (연산자 우선순위가 높음)"
   ]
  },
  {
   "cell_type": "markdown",
   "id": "dfb4e354-ba2f-4ebf-95a9-7af065456d65",
   "metadata": {},
   "source": [
    "## 5.4 비트연산자 : & | ^ (연산자 우선순위가 높음)"
   ]
  },
  {
   "cell_type": "code",
   "execution_count": 92,
   "id": "1d6ed1a8-8354-4e12-9b0f-113a43ed9779",
   "metadata": {},
   "outputs": [
    {
     "name": "stdout",
     "output_type": "stream",
     "text": [
      "True\n"
     ]
    }
   ],
   "source": [
    "print( (10>3) & (10>5) ) # 논리연산자 true & False가 앞 뒤에 올 때"
   ]
  },
  {
   "cell_type": "code",
   "execution_count": 93,
   "id": "1e83553f-2069-4a50-8972-72c766a5be7f",
   "metadata": {},
   "outputs": [
    {
     "name": "stdout",
     "output_type": "stream",
     "text": [
      "0\n",
      "13\n"
     ]
    }
   ],
   "source": [
    "print( 12 & 1 ) # 비트연산 12 : 1 1 0 0\n",
    "                #          1 : 0 0 0 1\n",
    "print( 12 | 1 )"
   ]
  },
  {
   "cell_type": "markdown",
   "id": "33127072-003a-470d-9c99-13f42d04da88",
   "metadata": {},
   "source": [
    "## 5.5 비교연산자 : > < >= <= == !="
   ]
  },
  {
   "cell_type": "code",
   "execution_count": 94,
   "id": "e3c7a10d-439b-474e-bf38-5f2c5289e8d6",
   "metadata": {},
   "outputs": [
    {
     "data": {
      "text/plain": [
       "True"
      ]
     },
     "execution_count": 94,
     "metadata": {},
     "output_type": "execute_result"
    }
   ],
   "source": [
    "'아' < '하'"
   ]
  },
  {
   "cell_type": "code",
   "execution_count": 97,
   "id": "bfd96bda-f1a4-48be-a61c-69b47b724cb6",
   "metadata": {},
   "outputs": [
    {
     "data": {
      "text/plain": [
       "True"
      ]
     },
     "execution_count": 97,
     "metadata": {},
     "output_type": "execute_result"
    }
   ],
   "source": [
    "'*' < '1' < 'A' < 'a' #  코드 순 : 특수문자 < 숫자 < 대문자 < 소문자"
   ]
  },
  {
   "cell_type": "code",
   "execution_count": 96,
   "id": "dacc2ab9-4c60-484c-b23f-6020abd17bd2",
   "metadata": {},
   "outputs": [
    {
     "data": {
      "text/plain": [
       "True"
      ]
     },
     "execution_count": 96,
     "metadata": {},
     "output_type": "execute_result"
    }
   ],
   "source": [
    "score = 85\n",
    "80 <= score < 90 < 100"
   ]
  },
  {
   "cell_type": "markdown",
   "id": "ba9bf73f-08cc-4434-a793-f4b540829523",
   "metadata": {},
   "source": [
    "# 6절. 문자열 다루기\n",
    "    - 문자열 슬라이싱 : 문자변수[from:to:step]\n",
    "    - len(문자열) : 문자갯수\n",
    "    - 문자열.upper() : 대문자\n",
    "    - 문자열.lower() : 소문자\n",
    "    - 문자열.title() : 앞글자만 대문자로\n",
    "    - 문자열.capitalize() : 첫문자만 대문자로. 그 외는 소문자\n",
    "    - count('찾을문자열') : 찾을 문자열이 몇개 들어있는지 갯수 반환\n",
    "    - find('찾을문자열') : 찾을 문자열의 왼쪽부터 몇번째 인덱스인지 index반환\n",
    "                            없으면 -1 반환\n",
    "    - rfind('찾을문자열') : 찾을 문자열의 오른쪽부터 몇번째 인덱스인지 index반환\n",
    "    - startswith('찾을문자열') : 특정문자열로 시작되는지 true, false 반환\n",
    "    - endswith('찾을문자열') : 특정문자열로 끝나는지 true, false 반환\n",
    "    - 문자열.strip() : 좌우 공백 제거\n",
    "    - 문자열.lstrip() : 좌 공백 제거\n",
    "    - 문자열.rstrip() : 우 공백 제거\n",
    "    - isdigit() : 문자열이 숫자 문자열인지 T/F 반환\n",
    "    - islower() : 문자열이 소문자인지 T/F 반환\n",
    "    - isupper() : 문자열이 대문자인지 T/F 반환\n",
    "    - replace(oldStr, newStr) : oldStr을 newStr로 변경"
   ]
  },
  {
   "cell_type": "code",
   "execution_count": 99,
   "id": "086e57d4-d48f-4a77-87bb-eb3d5aca5519",
   "metadata": {},
   "outputs": [
    {
     "data": {
      "text/plain": [
       "['__add__',\n",
       " '__class__',\n",
       " '__contains__',\n",
       " '__delattr__',\n",
       " '__dir__',\n",
       " '__doc__',\n",
       " '__eq__',\n",
       " '__format__',\n",
       " '__ge__',\n",
       " '__getattribute__',\n",
       " '__getitem__',\n",
       " '__getnewargs__',\n",
       " '__getstate__',\n",
       " '__gt__',\n",
       " '__hash__',\n",
       " '__init__',\n",
       " '__init_subclass__',\n",
       " '__iter__',\n",
       " '__le__',\n",
       " '__len__',\n",
       " '__lt__',\n",
       " '__mod__',\n",
       " '__mul__',\n",
       " '__ne__',\n",
       " '__new__',\n",
       " '__reduce__',\n",
       " '__reduce_ex__',\n",
       " '__repr__',\n",
       " '__rmod__',\n",
       " '__rmul__',\n",
       " '__setattr__',\n",
       " '__sizeof__',\n",
       " '__str__',\n",
       " '__subclasshook__',\n",
       " 'capitalize',\n",
       " 'casefold',\n",
       " 'center',\n",
       " 'count',\n",
       " 'encode',\n",
       " 'endswith',\n",
       " 'expandtabs',\n",
       " 'find',\n",
       " 'format',\n",
       " 'format_map',\n",
       " 'index',\n",
       " 'isalnum',\n",
       " 'isalpha',\n",
       " 'isascii',\n",
       " 'isdecimal',\n",
       " 'isdigit',\n",
       " 'isidentifier',\n",
       " 'islower',\n",
       " 'isnumeric',\n",
       " 'isprintable',\n",
       " 'isspace',\n",
       " 'istitle',\n",
       " 'isupper',\n",
       " 'join',\n",
       " 'ljust',\n",
       " 'lower',\n",
       " 'lstrip',\n",
       " 'maketrans',\n",
       " 'partition',\n",
       " 'removeprefix',\n",
       " 'removesuffix',\n",
       " 'replace',\n",
       " 'rfind',\n",
       " 'rindex',\n",
       " 'rjust',\n",
       " 'rpartition',\n",
       " 'rsplit',\n",
       " 'rstrip',\n",
       " 'split',\n",
       " 'splitlines',\n",
       " 'startswith',\n",
       " 'strip',\n",
       " 'swapcase',\n",
       " 'title',\n",
       " 'translate',\n",
       " 'upper',\n",
       " 'zfill']"
      ]
     },
     "execution_count": 99,
     "metadata": {},
     "output_type": "execute_result"
    }
   ],
   "source": [
    "# 문자열을 다룰 수 있는 함수 목록\n",
    "dir(str)"
   ]
  },
  {
   "cell_type": "code",
   "execution_count": 98,
   "id": "0c75cafc-5b8b-42be-8cd7-ed30010bc34f",
   "metadata": {},
   "outputs": [
    {
     "data": {
      "text/plain": [
       "'PYTHON ID EASY. PYTHON IS SMART.'"
      ]
     },
     "execution_count": 98,
     "metadata": {},
     "output_type": "execute_result"
    }
   ],
   "source": [
    "temp = 'Python is easy. Python is smart.'\n",
    "temp.upper() # temp가 가리키는 주소에 가면 문자열과 적용된 함수가 함께 있음\n",
    "len(temp)"
   ]
  },
  {
   "cell_type": "code",
   "execution_count": 100,
   "id": "a8fb7d05-b878-46bc-ac20-10887756fbfd",
   "metadata": {},
   "outputs": [
    {
     "name": "stdout",
     "output_type": "stream",
     "text": [
      "첫번째 글자:P, 마지막글자:.\n"
     ]
    }
   ],
   "source": [
    "print(\"첫번째 글자:{}, 마지막글자:{}\".format(temp[0], temp[-1]))"
   ]
  },
  {
   "cell_type": "code",
   "execution_count": 106,
   "id": "19f1e123-907d-4709-9768-bddb8a79ec35",
   "metadata": {},
   "outputs": [
    {
     "name": "stdout",
     "output_type": "stream",
     "text": [
      "대문자로: PYTHON ID EASY. PYTHON IS SMART.\n",
      "첫글자만대문자: Python id easy. python is smart.\n",
      "title: Python Id Easy. Python Is Smart.\n",
      "count: 2\n",
      "find: 0\n",
      "rfind: 16\n",
      "replace:  id easy.  is smart.\n",
      "startswith: True\n"
     ]
    }
   ],
   "source": [
    "print('대문자로:',temp.upper())\n",
    "print('첫글자만대문자:',temp.capitalize())\n",
    "print('title:',temp.title())\n",
    "print('count:',temp.count('Python'))\n",
    "print('find:',temp.find('Python'))\n",
    "print('rfind:',temp.rfind('Python'))\n",
    "print('replace:',temp.replace('Python', ''))\n",
    "print('startswith:',temp.startswith('Py'))"
   ]
  },
  {
   "cell_type": "code",
   "execution_count": 107,
   "id": "cb010883-c322-4d91-b32c-b4377c041a3c",
   "metadata": {},
   "outputs": [
    {
     "name": "stdout",
     "output_type": "stream",
     "text": [
      "temp : [            Python              ]\n",
      "strip : [Python]\n",
      "lstrip : [Python              ]\n",
      "rstrip : [            Python]\n"
     ]
    }
   ],
   "source": [
    "temp = \"            Python              \"\n",
    "print(\"temp : [{}]\".format(temp))\n",
    "print(\"strip : [{}]\".format(temp.strip()))\n",
    "print(\"lstrip : [{}]\".format(temp.lstrip()))\n",
    "print(\"rstrip : [{}]\".format(temp.rstrip()))"
   ]
  },
  {
   "cell_type": "code",
   "execution_count": 109,
   "id": "4b7d0754-ff49-43d2-a9e1-ccc26d82d998",
   "metadata": {},
   "outputs": [
    {
     "name": "stdout",
     "output_type": "stream",
     "text": [
      "space단위로 분리하여 list로 반환 : ['Python is easy', ' Python is smart', '']\n"
     ]
    }
   ],
   "source": [
    "temp = 'Python is easy. Python is smart.'\n",
    "print('space단위로 분리하여 list로 반환 :', temp.split())"
   ]
  },
  {
   "cell_type": "code",
   "execution_count": 113,
   "id": "46ff3295-5026-437a-b42d-5dbdc70a06b1",
   "metadata": {},
   "outputs": [
    {
     "name": "stdout",
     "output_type": "stream",
     "text": [
      "space단위로 분리하여 list로 반환 : Python~is~easy~Python~is~smart.\n"
     ]
    }
   ],
   "source": [
    "temp = 'Python-is-easy-Python-is-smart.'\n",
    "temp_split =  temp.split(sep = '-')\n",
    "temp_split = '~'.join(temp_split)\n",
    "print('space단위로 분리하여 list로 반환 :', temp_split)"
   ]
  },
  {
   "cell_type": "markdown",
   "id": "680ed420-1e8e-451f-b8d7-84f9aea4ba5d",
   "metadata": {},
   "source": [
    "# 7절. 날짜 다루기"
   ]
  },
  {
   "cell_type": "markdown",
   "id": "4a1bffcb-05e2-4124-8e89-4b062521987e",
   "metadata": {},
   "source": [
    "## 7.1 날짜"
   ]
  },
  {
   "cell_type": "code",
   "execution_count": 114,
   "id": "38da67da-790c-4156-a477-b6d441eaa9af",
   "metadata": {},
   "outputs": [
    {
     "data": {
      "text/plain": [
       "datetime.date(2024, 5, 30)"
      ]
     },
     "execution_count": 114,
     "metadata": {},
     "output_type": "execute_result"
    }
   ],
   "source": [
    "from datetime import date\n",
    "someday = date(2024, 5, 30)\n",
    "someday"
   ]
  },
  {
   "cell_type": "code",
   "execution_count": 117,
   "id": "b08283c0-0c94-4cb6-b7fd-a582b3a9866c",
   "metadata": {},
   "outputs": [
    {
     "name": "stdout",
     "output_type": "stream",
     "text": [
      "2024년05월30일 00시 00분\n"
     ]
    }
   ],
   "source": [
    "print(\"{:%Y년%m월%d일 %H시 %M분}\".format(someday))"
   ]
  },
  {
   "cell_type": "markdown",
   "id": "954bfc1f-9728-4b64-8007-f0c9296251ca",
   "metadata": {},
   "source": [
    "## 7.2 시간"
   ]
  },
  {
   "cell_type": "code",
   "execution_count": 119,
   "id": "45242138-60cc-4b04-b849-102c25dcb61e",
   "metadata": {},
   "outputs": [
    {
     "name": "stdout",
     "output_type": "stream",
     "text": [
      "2024년05월30일 12시 48분\n"
     ]
    }
   ],
   "source": [
    "from datetime import datetime\n",
    "now = datetime.today()\n",
    "print(\"{:%Y년%m월%d일 %H시 %M분}\".format(now))"
   ]
  },
  {
   "cell_type": "markdown",
   "id": "4db112ed-a334-4ab4-b63f-8b3d54093082",
   "metadata": {},
   "source": [
    "# 8절. 연습문제"
   ]
  },
  {
   "cell_type": "code",
   "execution_count": 121,
   "id": "1f4bd8b0-4f76-4644-a7c1-c75f2af908fa",
   "metadata": {},
   "outputs": [
    {
     "name": "stdin",
     "output_type": "stream",
     "text": [
      "이름 >>  홍길동\n",
      "나이 >>  18\n"
     ]
    }
   ],
   "source": [
    "# 8-1\n",
    "name = input(\"이름 >> \")\n",
    "age = int(input(\"나이 >> \"))"
   ]
  },
  {
   "cell_type": "code",
   "execution_count": 124,
   "id": "ebf3ac8e-dac3-4623-9f34-2d4b6adf1750",
   "metadata": {},
   "outputs": [
    {
     "name": "stdout",
     "output_type": "stream",
     "text": [
      "홍길동님의 나이는18입니다.\n"
     ]
    }
   ],
   "source": [
    "print(\"{}님의 나이는{}입니다.\".format(name, age))"
   ]
  },
  {
   "cell_type": "code",
   "execution_count": 150,
   "id": "2ae7495c-996a-42cd-8cc5-4d04680cf8fb",
   "metadata": {},
   "outputs": [
    {
     "name": "stdin",
     "output_type": "stream",
     "text": [
      "정수1 >>  10\n",
      "정수2 >>  0\n"
     ]
    }
   ],
   "source": [
    "# 8-2\n",
    "a = int(input(\"정수1 >> \"))\n",
    "b = int(input(\"정수2 >> \"))"
   ]
  },
  {
   "cell_type": "code",
   "execution_count": 151,
   "id": "85e15f5d-05ce-4933-9b97-10432b0c9049",
   "metadata": {},
   "outputs": [
    {
     "name": "stdout",
     "output_type": "stream",
     "text": [
      "10\n",
      "10\n",
      "0\n",
      "두번째 정수에 0을 기입하지 마세요.\n"
     ]
    }
   ],
   "source": [
    "print(int(a + b))\n",
    "print(int(a - b))\n",
    "print(int(a*b))\n",
    "try:\n",
    "    print(float(a/b))\n",
    "    print(int(a//b))\n",
    "    print(int(a%b))\n",
    "except:\n",
    "    print(\"두번째 정수에 0을 기입하지 마세요.\")"
   ]
  },
  {
   "cell_type": "code",
   "execution_count": 152,
   "id": "9fff6eb8-c9d6-4951-804b-c762549025c0",
   "metadata": {},
   "outputs": [
    {
     "name": "stdout",
     "output_type": "stream",
     "text": [
      "World Hello\n",
      "World Hello\n"
     ]
    }
   ],
   "source": [
    "# 8-3\n",
    "str_ = \"Hello World\"\n",
    "print(str_[6:] + ' ' + str_[0:5])\n",
    "str_ = \"Hello World\"\n",
    "split_str_ = str_.split()\n",
    "print(split_str_[1], split_str_[0])"
   ]
  },
  {
   "cell_type": "code",
   "execution_count": 165,
   "id": "6a6662bc-75aa-46d3-8b92-842804e7f428",
   "metadata": {},
   "outputs": [
    {
     "name": "stdout",
     "output_type": "stream",
     "text": [
      "bcdefa\n"
     ]
    }
   ],
   "source": [
    "# 8-4\n",
    "x = 'abcdef'\n",
    "print(x[1:], x[0], sep='')"
   ]
  },
  {
   "cell_type": "code",
   "execution_count": 156,
   "id": "05998027-85ad-4f8c-8cc5-c64e9ca512cf",
   "metadata": {},
   "outputs": [
    {
     "name": "stdout",
     "output_type": "stream",
     "text": [
      "fedcba\n"
     ]
    }
   ],
   "source": [
    "# 8-5\n",
    "x = 'abcdef'\n",
    "print(x[::-1])"
   ]
  },
  {
   "cell_type": "code",
   "execution_count": 164,
   "id": "dd5ba207-b022-460d-8980-c29d11812665",
   "metadata": {},
   "outputs": [
    {
     "name": "stdin",
     "output_type": "stream",
     "text": [
      "섭씨 온도를 입력하세요 12\n"
     ]
    },
    {
     "name": "stdout",
     "output_type": "stream",
     "text": [
      "섭씨 12도는 화씨온도로 바꾸면 53.60도입니다\n"
     ]
    }
   ],
   "source": [
    "# 8-6\n",
    "# 6.섭씨온도로 입력받아 화씨 온도로 변환\n",
    "c = int(input('섭씨 온도를 입력하세요'))\n",
    "f = (c*1.8)+32\n",
    "if f==round(f):\n",
    "    print('섭씨 {}도는 화씨온도로 바꾸면 {:.0f}도입니다'.format(c, f))\n",
    "else:\n",
    "    print('섭씨 {}도는 화씨온도로 바꾸면 {:.2f}도입니다'.format(c, f))"
   ]
  },
  {
   "cell_type": "code",
   "execution_count": null,
   "id": "e137f62f-62c8-4d11-b60c-ec5dafe373c7",
   "metadata": {},
   "outputs": [],
   "source": []
  }
 ],
 "metadata": {
  "kernelspec": {
   "display_name": "Python 3 (ipykernel)",
   "language": "python",
   "name": "python3"
  },
  "language_info": {
   "codemirror_mode": {
    "name": "ipython",
    "version": 3
   },
   "file_extension": ".py",
   "mimetype": "text/x-python",
   "name": "python",
   "nbconvert_exporter": "python",
   "pygments_lexer": "ipython3",
   "version": "3.11.7"
  }
 },
 "nbformat": 4,
 "nbformat_minor": 5
}
