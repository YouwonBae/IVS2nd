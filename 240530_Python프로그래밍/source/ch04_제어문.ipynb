{
 "cells": [
  {
   "cell_type": "markdown",
   "id": "38b21eed-bf4f-4bd2-8f6c-aac2e4c1f2c2",
   "metadata": {},
   "source": [
    "<font size = '7' color = 'red'><b>ch04. 제어문</b></font>"
   ]
  },
  {
   "cell_type": "markdown",
   "id": "015def1c-211c-4c83-8400-b44da6213e87",
   "metadata": {},
   "source": [
    "- if문, for-in문, while문"
   ]
  },
  {
   "cell_type": "markdown",
   "id": "aa77949c-fc31-4c97-8b64-bb7ad2b7f946",
   "metadata": {},
   "source": [
    "# 1절. if문"
   ]
  },
  {
   "cell_type": "code",
   "execution_count": 3,
   "id": "fc3557ac-e4d9-44b8-ba9f-c39153b3b2cc",
   "metadata": {},
   "outputs": [
    {
     "name": "stdin",
     "output_type": "stream",
     "text": [
      "홍길동 Enter your score >>  65\n"
     ]
    },
    {
     "name": "stdout",
     "output_type": "stream",
     "text": [
      "ㅇ비력하신 점수는 65점이고, D등급입니다.\n"
     ]
    }
   ],
   "source": [
    "# 점수를 입력받아 학점출력\n",
    "name = '홍길동'\n",
    "score = int(input(name + \" Enter your score >> \"))\n",
    "if 90 <= score <= 100:\n",
    "    grade = 'A'\n",
    "elif 80 <= score < 90:\n",
    "    grade = 'B'\n",
    "elif 70 <= score < 80:\n",
    "    grade = 'C'\n",
    "elif 60 <= score < 70:\n",
    "    grade = 'D'\n",
    "elif 0 <= score < 60:\n",
    "    grade = 'F'\n",
    "else:\n",
    "    grade = '유효하지 않은 점수'\n",
    "print(\"입력하신 점수는 {}점이고, {}등급입니다.\".format(score, grade))"
   ]
  },
  {
   "cell_type": "markdown",
   "id": "8ffadcde-87d8-41bf-881f-63f57ed27cc2",
   "metadata": {},
   "source": [
    "# 2절. for-in문"
   ]
  },
  {
   "cell_type": "markdown",
   "id": "e949b7b0-0266-4230-bbe7-4b16297b453d",
   "metadata": {},
   "source": [
    "```\n",
    "for 변수 in 나열이 가능한 자료형: # list, range, enumerate...\n",
    "    반복할 문장1\n",
    "    반복할 문장2\n",
    "else:\n",
    "    변수에 값이 할당되지 않은 경우 한번 실행할 문장(선택 구문 사항)\n",
    "    for문 안에 break문 있을 시 else구문은 실행되지 않음\n",
    "```"
   ]
  },
  {
   "cell_type": "code",
   "execution_count": 4,
   "id": "bb1012f1-cebd-448f-bf6d-f2a5a33f0542",
   "metadata": {},
   "outputs": [
    {
     "data": {
      "text/plain": [
       "[1, 3, 5, 7, 9]"
      ]
     },
     "execution_count": 4,
     "metadata": {},
     "output_type": "execute_result"
    }
   ],
   "source": [
    "list(range(1, 10, 2))"
   ]
  },
  {
   "cell_type": "code",
   "execution_count": 7,
   "id": "7f34cc3b-cbeb-40fe-acdd-8760aaa60641",
   "metadata": {},
   "outputs": [
    {
     "name": "stdout",
     "output_type": "stream",
     "text": [
      "0\t2\t4\t6\t8\t\n",
      "Done\n",
      "END\n"
     ]
    }
   ],
   "source": [
    "for i in range(0, 10, 2):\n",
    "    print(i, end='\\t')\n",
    "else:\n",
    "    print(\"\\nDone\")\n",
    "print(\"END\")"
   ]
  },
  {
   "cell_type": "code",
   "execution_count": 11,
   "id": "51ef9151-ad79-4ddb-87fc-ed4195c52685",
   "metadata": {},
   "outputs": [
    {
     "name": "stdout",
     "output_type": "stream",
     "text": [
      "2550\n"
     ]
    }
   ],
   "source": [
    "# 1~100까지 짝수의 함을 계산하고 출력하시오\n",
    "sum = 0\n",
    "for i in range(2,101, 2):\n",
    "    sum += i\n",
    "print(sum)"
   ]
  },
  {
   "cell_type": "markdown",
   "id": "369f0dee-53a6-4198-993c-f9399538383e",
   "metadata": {},
   "source": [
    "# 3절. while문"
   ]
  },
  {
   "cell_type": "markdown",
   "id": "0106d42d-856c-48bc-985c-03c58c75051c",
   "metadata": {},
   "source": [
    "```\n",
    "while 조건:\n",
    "    반복문장1\n",
    "    반복문장2\n",
    "else:\n",
    "    조건이 거짓일 경우 한번 수행하는 문장(else는 선택 구문 사항)\n",
    "    while내 break를 통해서 빠져나올때는 else블럭은 수행하지 않음\n",
    "```"
   ]
  },
  {
   "cell_type": "code",
   "execution_count": 13,
   "id": "41a8cf48-1423-4bf2-87bb-1f5217a415ac",
   "metadata": {},
   "outputs": [
    {
     "name": "stdin",
     "output_type": "stream",
     "text": [
      "첫번째 작은수를 입력하세요 >>  -10\n",
      "두번째 큰수를 입력하세요 >>  100\n"
     ]
    },
    {
     "name": "stdout",
     "output_type": "stream",
     "text": [
      "2475\n"
     ]
    }
   ],
   "source": [
    "# 사용자에게 두 수를 입력받아 첫번째부터 두번째 수 까지 홀수의 합을 누적하해서 출력하기\n",
    "n1 = int(input(\"첫번째 작은수를 입력하세요 >> \"))\n",
    "n2 = int(input(\"두번째 큰수를 입력하세요 >> \"))\n",
    "sum = 0\n",
    "\n",
    "i = n1\n",
    "while i <= n2:\n",
    "    if (i%2 != 0):\n",
    "        sum += i\n",
    "    i += 1\n",
    "print(sum)"
   ]
  },
  {
   "cell_type": "markdown",
   "id": "1d02cb7b-1ba2-4fca-a905-c16b7dbb4e5d",
   "metadata": {},
   "source": [
    "# 4절. break, continue"
   ]
  },
  {
   "cell_type": "code",
   "execution_count": 15,
   "id": "79189c46-8065-49c3-b363-250cecaac113",
   "metadata": {},
   "outputs": [
    {
     "name": "stdout",
     "output_type": "stream",
     "text": [
      "1\t2\t4\t5\t6\t7\t8\t9\t10\t11\t"
     ]
    }
   ],
   "source": [
    "num = 0\n",
    "while num <= 10:\n",
    "    num += 1\n",
    "    if num == 3:\n",
    "        # break\n",
    "        continue\n",
    "    print(num, end='\\t')"
   ]
  },
  {
   "cell_type": "markdown",
   "id": "8f33e678-7f03-4fa5-895f-c69c41826e4b",
   "metadata": {},
   "source": [
    "# 5절. 이중 loop"
   ]
  },
  {
   "cell_type": "code",
   "execution_count": 18,
   "id": "0f9ffe3a-3329-4518-9194-f1de6d787c3b",
   "metadata": {},
   "outputs": [
    {
     "name": "stdout",
     "output_type": "stream",
     "text": [
      "2x1= 2\t3x1= 3\t4x1= 4\t5x1= 5\t6x1= 6\t7x1= 7\t8x1= 8\t9x1= 9\t\n",
      "2x2= 4\t3x2= 6\t4x2= 8\t5x2=10\t6x2=12\t7x2=14\t8x2=16\t9x2=18\t\n",
      "2x3= 6\t3x3= 9\t4x3=12\t5x3=15\t6x3=18\t7x3=21\t8x3=24\t9x3=27\t\n",
      "2x4= 8\t3x4=12\t4x4=16\t5x4=20\t6x4=24\t7x4=28\t8x4=32\t9x4=36\t\n",
      "2x5=10\t3x5=15\t4x5=20\t5x5=25\t6x5=30\t7x5=35\t8x5=40\t9x5=45\t\n",
      "2x6=12\t3x6=18\t4x6=24\t5x6=30\t6x6=36\t7x6=42\t8x6=48\t9x6=54\t\n",
      "2x7=14\t3x7=21\t4x7=28\t5x7=35\t6x7=42\t7x7=49\t8x7=56\t9x7=63\t\n",
      "2x8=16\t3x8=24\t4x8=32\t5x8=40\t6x8=48\t7x8=56\t8x8=64\t9x8=72\t\n",
      "2x9=18\t3x9=27\t4x9=36\t5x9=45\t6x9=54\t7x9=63\t8x9=72\t9x9=81\t\n"
     ]
    }
   ],
   "source": [
    "for i in range(1, 10):\n",
    "    for j in range(2, 10):\n",
    "        print(\"{}x{}={:>2}\\t\".format(j, i, i*j), end='')\n",
    "    print() # 개행"
   ]
  },
  {
   "cell_type": "markdown",
   "id": "5bd15e23-6b17-4663-8c97-8b046ff22b6a",
   "metadata": {},
   "source": [
    "# 연습문제"
   ]
  },
  {
   "cell_type": "code",
   "execution_count": 30,
   "id": "b703b965-f898-4556-a462-8410dd5d122e",
   "metadata": {},
   "outputs": [
    {
     "name": "stdout",
     "output_type": "stream",
     "text": [
      "84\n"
     ]
    }
   ],
   "source": [
    "# import random\n",
    "# # random.seed(7) # seed값을 주면 난수결과가 동일해짐\n",
    "# print(random.randint(1, 100))"
   ]
  },
  {
   "cell_type": "code",
   "execution_count": 59,
   "id": "88b55110-ad7b-4d88-a620-32be5a03ba0c",
   "metadata": {},
   "outputs": [
    {
     "name": "stdin",
     "output_type": "stream",
     "text": [
      "숫자를 입력하세요 >>  50\n"
     ]
    },
    {
     "name": "stdout",
     "output_type": "stream",
     "text": [
      "UP!\n",
      "51 ~ 100\n"
     ]
    },
    {
     "name": "stdin",
     "output_type": "stream",
     "text": [
      "숫자를 입력하세요 >>  30\n"
     ]
    },
    {
     "name": "stdout",
     "output_type": "stream",
     "text": [
      "OUT OF BOUND!\n"
     ]
    },
    {
     "name": "stdin",
     "output_type": "stream",
     "text": [
      "숫자를 입력하세요 >>  110\n"
     ]
    },
    {
     "name": "stdout",
     "output_type": "stream",
     "text": [
      "OUT OF BOUND!\n"
     ]
    },
    {
     "name": "stdin",
     "output_type": "stream",
     "text": [
      "숫자를 입력하세요 >>  101\n"
     ]
    },
    {
     "name": "stdout",
     "output_type": "stream",
     "text": [
      "OUT OF BOUND!\n"
     ]
    },
    {
     "name": "stdin",
     "output_type": "stream",
     "text": [
      "숫자를 입력하세요 >>  100\n"
     ]
    },
    {
     "name": "stdout",
     "output_type": "stream",
     "text": [
      "DOWN!\n",
      "51 ~ 99\n"
     ]
    },
    {
     "name": "stdin",
     "output_type": "stream",
     "text": [
      "숫자를 입력하세요 >>  75\n"
     ]
    },
    {
     "name": "stdout",
     "output_type": "stream",
     "text": [
      "DOWN!\n",
      "51 ~ 74\n"
     ]
    },
    {
     "name": "stdin",
     "output_type": "stream",
     "text": [
      "숫자를 입력하세요 >>  60\n"
     ]
    },
    {
     "name": "stdout",
     "output_type": "stream",
     "text": [
      "DOWN!\n",
      "51 ~ 59\n"
     ]
    },
    {
     "name": "stdin",
     "output_type": "stream",
     "text": [
      "숫자를 입력하세요 >>  55\n"
     ]
    },
    {
     "name": "stdout",
     "output_type": "stream",
     "text": [
      "맞췄습니다\n"
     ]
    }
   ],
   "source": [
    "# 1. 방법2\n",
    "import random\n",
    "\n",
    "ans = random.randint(1, 100)\n",
    "min = 1\n",
    "max = 100\n",
    "\n",
    "while True:\n",
    "    num = int(input(\"숫자를 입력하세요 >> \"))\n",
    "    if (num > max) | (num < min):\n",
    "        print(\"OUT OF BOUND!\")\n",
    "    elif num < ans:\n",
    "        print(\"UP!\")\n",
    "        min = num + 1\n",
    "        print(\"{} ~ {}\".format(min, max))\n",
    "    elif num > ans:\n",
    "        print(\"DOWN!\")\n",
    "        max = num - 1\n",
    "        print(\"{} ~ {}\".format(min, max))\n",
    "    else:\n",
    "        print(\"맞췄습니다\")\n",
    "        break"
   ]
  },
  {
   "cell_type": "code",
   "execution_count": 65,
   "id": "92248832-85ea-4303-a676-afbda6241d8f",
   "metadata": {},
   "outputs": [
    {
     "name": "stdout",
     "output_type": "stream",
     "text": [
      "[3, 10, 22, 27, 32]\n"
     ]
    }
   ],
   "source": [
    "# 2.\n",
    "import random\n",
    "\n",
    "lotto = set()\n",
    "\n",
    "while len(lotto) < 5:\n",
    "    lotto.add(random.randint(1, 45))\n",
    "\n",
    "lotto = list(lotto)\n",
    "lotto.sort()\n",
    "print(lotto)"
   ]
  },
  {
   "cell_type": "code",
   "execution_count": null,
   "id": "98f9300d-3998-4f2c-9cb8-4f74c531e53d",
   "metadata": {},
   "outputs": [],
   "source": []
  }
 ],
 "metadata": {
  "kernelspec": {
   "display_name": "Python 3 (ipykernel)",
   "language": "python",
   "name": "python3"
  },
  "language_info": {
   "codemirror_mode": {
    "name": "ipython",
    "version": 3
   },
   "file_extension": ".py",
   "mimetype": "text/x-python",
   "name": "python",
   "nbconvert_exporter": "python",
   "pygments_lexer": "ipython3",
   "version": "3.11.7"
  }
 },
 "nbformat": 4,
 "nbformat_minor": 5
}
