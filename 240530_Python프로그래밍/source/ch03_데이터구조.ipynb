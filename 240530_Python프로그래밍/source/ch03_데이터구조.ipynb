{
 "cells": [
  {
   "cell_type": "markdown",
   "id": "168920e4-6cf8-4df6-90bd-eb56391666d9",
   "metadata": {},
   "source": [
    "<font size =\"7\" color=\"red\"><b>ch03. 데이터 구조</b></font>"
   ]
  },
  {
   "cell_type": "markdown",
   "id": "e259cfcc-b767-4cd9-9d30-dd49d9d474da",
   "metadata": {},
   "source": [
    "- 리스트 [], 튜플 (), 딕셔너리{구조체와 유사}, 셋(집합)"
   ]
  },
  {
   "cell_type": "markdown",
   "id": "54b1f11f-ac19-4213-9072-fc976b040a6e",
   "metadata": {},
   "source": [
    "# 1절. 리스트"
   ]
  },
  {
   "cell_type": "markdown",
   "id": "1675b4eb-debb-406a-8193-4c26a1d41a99",
   "metadata": {},
   "source": [
    "## 1.1 리스트 만들기\n",
    "- []이용\n",
    "- 인덱스 :0부터 시작. -1은 맨 마지막 인덱스\n",
    "- 슬라이싱([from:to:step]이용하여 추출)"
   ]
  },
  {
   "cell_type": "code",
   "execution_count": 9,
   "id": "643de9ca-d889-40be-a614-716e201199ce",
   "metadata": {},
   "outputs": [
    {
     "data": {
      "text/plain": [
       "list"
      ]
     },
     "execution_count": 9,
     "metadata": {},
     "output_type": "execute_result"
    }
   ],
   "source": [
    "fruits = ['banana', 'apple', 'orange', 'grape', 0]\n",
    "type(fruits)"
   ]
  },
  {
   "cell_type": "code",
   "execution_count": 10,
   "id": "9c3b8b3a-6b03-43a8-8860-c9ecfb6966c7",
   "metadata": {},
   "outputs": [
    {
     "name": "stdout",
     "output_type": "stream",
     "text": [
      "['banana', 'apple', 'orange', 'grape', 0]\n",
      "0\n"
     ]
    }
   ],
   "source": [
    "print(fruits)\n",
    "print(fruits[4])"
   ]
  },
  {
   "cell_type": "code",
   "execution_count": 11,
   "id": "ea6f3f10-d59f-4a6c-960e-4fa2bc549d85",
   "metadata": {},
   "outputs": [
    {
     "name": "stdout",
     "output_type": "stream",
     "text": [
      "['mango', 'apple', 'orange', 'grape', 0]\n"
     ]
    }
   ],
   "source": [
    "fruits[0] = 'mango'\n",
    "print(fruits)"
   ]
  },
  {
   "cell_type": "code",
   "execution_count": 13,
   "id": "2031ea6c-8be9-4071-ae42-b75983227ad6",
   "metadata": {},
   "outputs": [
    {
     "name": "stdout",
     "output_type": "stream",
     "text": [
      "mango\n",
      "apple\n",
      "orange\n",
      "grape\n",
      "0\n"
     ]
    }
   ],
   "source": [
    "for fruit in fruits: # 인덱스가 필요 없을 때\n",
    "    print(fruit)"
   ]
  },
  {
   "cell_type": "code",
   "execution_count": 19,
   "id": "e4d6d22f-2989-4a23-8c45-7fe9a696034e",
   "metadata": {},
   "outputs": [
    {
     "data": {
      "text/plain": [
       "range(0, 5)"
      ]
     },
     "execution_count": 19,
     "metadata": {},
     "output_type": "execute_result"
    }
   ],
   "source": [
    "range(5)"
   ]
  },
  {
   "cell_type": "code",
   "execution_count": 20,
   "id": "878640ff-4b0e-455d-bfb6-570fb529a22e",
   "metadata": {},
   "outputs": [
    {
     "data": {
      "text/plain": [
       "[0, 1, 2, 3, 4]"
      ]
     },
     "execution_count": 20,
     "metadata": {},
     "output_type": "execute_result"
    }
   ],
   "source": [
    "list(range(5))"
   ]
  },
  {
   "cell_type": "code",
   "execution_count": 21,
   "id": "d1299411-8960-42f0-9502-d78d88d86c13",
   "metadata": {},
   "outputs": [
    {
     "data": {
      "text/plain": [
       "[0, 1, 2, 3, 4]"
      ]
     },
     "execution_count": 21,
     "metadata": {},
     "output_type": "execute_result"
    }
   ],
   "source": [
    "list(range(len(fruits)))"
   ]
  },
  {
   "cell_type": "code",
   "execution_count": 23,
   "id": "bbb709f0-babc-4a7c-ab4e-345d676a6f5e",
   "metadata": {},
   "outputs": [
    {
     "name": "stdout",
     "output_type": "stream",
     "text": [
      "0번째 요소는 mango입니다.\n",
      "1번째 요소는 apple입니다.\n",
      "2번째 요소는 orange입니다.\n",
      "3번째 요소는 grape입니다.\n",
      "4번째 요소는 0입니다.\n"
     ]
    }
   ],
   "source": [
    "for i in list(range(len(fruits))): # 인덱스가 필요할 때\n",
    "    print(\"{}번째 요소는 {}입니다.\".format(i, fruits[i]))"
   ]
  },
  {
   "cell_type": "code",
   "execution_count": 24,
   "id": "5ed85b74-1192-4ad4-b3aa-acb2d06a7b4c",
   "metadata": {},
   "outputs": [
    {
     "name": "stdout",
     "output_type": "stream",
     "text": [
      "0번째 요소는 mango입니다.\n",
      "1번째 요소는 apple입니다.\n",
      "2번째 요소는 orange입니다.\n",
      "3번째 요소는 grape입니다.\n",
      "4번째 요소는 0입니다.\n"
     ]
    }
   ],
   "source": [
    "for idx, value in enumerate(fruits): # 인덱스가 필요할 때 <= 이 방법을 가장 많이 씀\n",
    "    print(\"{}번째 요소는 {}입니다.\".format(idx, value))"
   ]
  },
  {
   "cell_type": "markdown",
   "id": "5e696f0b-82c9-484a-9f2d-054b587a9beb",
   "metadata": {},
   "source": [
    "## 1.2 기본정보 조회"
   ]
  },
  {
   "cell_type": "code",
   "execution_count": 27,
   "id": "05b58d95-4e2d-45dd-94ac-4cd30ac31b7c",
   "metadata": {},
   "outputs": [
    {
     "name": "stdout",
     "output_type": "stream",
     "text": [
      "요소의 수 :  5\n",
      "최대값 :  5\n",
      "최소값 :  1\n"
     ]
    }
   ],
   "source": [
    "numbers = [1, 2, 3, 4, 5]\n",
    "print(\"요소의 수 : \", len(numbers))\n",
    "print(\"최대값 : \", max(numbers))\n",
    "print(\"최소값 : \", min(numbers))"
   ]
  },
  {
   "cell_type": "code",
   "execution_count": null,
   "id": "ca41eed6-6ee3-4830-a9be-079f28d155db",
   "metadata": {},
   "outputs": [],
   "source": [
    "# + 두 리스트를 연결\n",
    "# 리스트 * N : 리스트를 N만큼 반복\n",
    "# append() : 요소 뒤에 추가\n",
    "# extend() : 리스트의 요소별로 뒤에 추가"
   ]
  },
  {
   "cell_type": "code",
   "execution_count": 29,
   "id": "ea7dd481-b7c9-4f6e-87a7-5f06d966f41a",
   "metadata": {},
   "outputs": [
    {
     "data": {
      "text/plain": [
       "[1, 2, 3, 1, 2, 3]"
      ]
     },
     "execution_count": 29,
     "metadata": {},
     "output_type": "execute_result"
    }
   ],
   "source": [
    "numbers = [1, 2, 3]\n",
    "numbers = numbers + numbers\n",
    "numbers"
   ]
  },
  {
   "cell_type": "code",
   "execution_count": 33,
   "id": "3e174cec-66c2-4ea8-a89a-1623e5efa1c4",
   "metadata": {},
   "outputs": [
    {
     "name": "stdout",
     "output_type": "stream",
     "text": [
      "[1, 2, 3, 1, 2, 3, 1, 2, 3]\n"
     ]
    }
   ],
   "source": [
    "numbers = [1, 2, 3]\n",
    "print(numbers * 3)"
   ]
  },
  {
   "cell_type": "code",
   "execution_count": 34,
   "id": "01b2bb8d-2824-471a-95b2-8cb2fec01084",
   "metadata": {},
   "outputs": [
    {
     "data": {
      "text/plain": [
       "[1, 2, 3, 4]"
      ]
     },
     "execution_count": 34,
     "metadata": {},
     "output_type": "execute_result"
    }
   ],
   "source": [
    "numbers.append(4)\n",
    "numbers"
   ]
  },
  {
   "cell_type": "code",
   "execution_count": 37,
   "id": "cf9525a0-a498-407c-a54a-725f8a65a299",
   "metadata": {},
   "outputs": [
    {
     "data": {
      "text/plain": [
       "[1, 2, 3, 4, [5, 6]]"
      ]
     },
     "execution_count": 37,
     "metadata": {},
     "output_type": "execute_result"
    }
   ],
   "source": [
    "numbers = [1, 2, 3, 4]\n",
    "num = [5, 6]\n",
    "numbers.append(num) # [1, 2, 3, 4, [5, 6]]\n",
    "numbers"
   ]
  },
  {
   "cell_type": "code",
   "execution_count": 41,
   "id": "c397d357-331d-4474-ac4d-843c6eafd041",
   "metadata": {},
   "outputs": [
    {
     "data": {
      "text/plain": [
       "[1, 2, 3, 4, 5, 6]"
      ]
     },
     "execution_count": 41,
     "metadata": {},
     "output_type": "execute_result"
    }
   ],
   "source": [
    "numbers = [1, 2, 3, 4]\n",
    "num = [5, 6]\n",
    "numbers.extend(num) # [1, 2, 3, 4, 5, 6]\n",
    "numbers"
   ]
  },
  {
   "cell_type": "code",
   "execution_count": 40,
   "id": "df222e3c-0011-444f-bad4-907652fed052",
   "metadata": {},
   "outputs": [
    {
     "data": {
      "text/plain": [
       "[1, 2, 3, 4, 5, 6]"
      ]
     },
     "execution_count": 40,
     "metadata": {},
     "output_type": "execute_result"
    }
   ],
   "source": [
    "numbers = [1, 2, 3, 4]\n",
    "num = [5, 6]\n",
    "numbers = numbers + num # [1, 2, 3, 4, 5, 6]\n",
    "numbers"
   ]
  },
  {
   "cell_type": "code",
   "execution_count": 42,
   "id": "304062bc-5ce3-45f3-bcee-b860980b1c9e",
   "metadata": {},
   "outputs": [
    {
     "data": {
      "text/plain": [
       "[1, 2, 3, 4, 'hello']"
      ]
     },
     "execution_count": 42,
     "metadata": {},
     "output_type": "execute_result"
    }
   ],
   "source": [
    "numbers = [1, 2, 3, 4]\n",
    "numbers.append(\"hello\")\n",
    "numbers"
   ]
  },
  {
   "cell_type": "code",
   "execution_count": 43,
   "id": "98290e53-af03-4718-8ed6-bd47af00aa65",
   "metadata": {},
   "outputs": [
    {
     "data": {
      "text/plain": [
       "[1, 2, 3, 4, 'h', 'e', 'l', 'l', 'o']"
      ]
     },
     "execution_count": 43,
     "metadata": {},
     "output_type": "execute_result"
    }
   ],
   "source": [
    "numbers = [1, 2, 3, 4]\n",
    "numbers.extend(\"hello\")\n",
    "numbers"
   ]
  },
  {
   "cell_type": "markdown",
   "id": "a768fc90-affe-448b-abac-3ade09afd8fc",
   "metadata": {},
   "source": [
    "## 1.4 인덱싱\n",
    "- index(찾고자 하는 값, 1) : 찾고자하는 값을 1번 인덱스부터 찾아 그 위치 반환\n",
    "- count(찾고자 하는 값) : 찾고자하는 값이 몇번 나오는지 count 반환"
   ]
  },
  {
   "cell_type": "code",
   "execution_count": 46,
   "id": "fdf974c3-87f5-4a71-a335-2d1a416c0070",
   "metadata": {},
   "outputs": [
    {
     "name": "stdout",
     "output_type": "stream",
     "text": [
      "2가 몇개인지 : 2\n",
      "4가 몇개인지 : 0\n"
     ]
    }
   ],
   "source": [
    "numbers =[1,2,3, [1,2,3], 1,2,3]\n",
    "print(\"2가 몇개인지 : {}\".format(numbers.count(2)))\n",
    "print(\"4가 몇개인지 : {}\".format(numbers.count(4)))"
   ]
  },
  {
   "cell_type": "code",
   "execution_count": 47,
   "id": "09463604-6290-4140-a413-969e6702a413",
   "metadata": {},
   "outputs": [
    {
     "data": {
      "text/plain": [
       "True"
      ]
     },
     "execution_count": 47,
     "metadata": {},
     "output_type": "execute_result"
    }
   ],
   "source": [
    "2 in numbers"
   ]
  },
  {
   "cell_type": "code",
   "execution_count": 49,
   "id": "fdbaa20d-0cff-4b6c-9acc-264fc5131a21",
   "metadata": {},
   "outputs": [
    {
     "data": {
      "text/plain": [
       "5"
      ]
     },
     "execution_count": 49,
     "metadata": {},
     "output_type": "execute_result"
    }
   ],
   "source": [
    "numbers.index(2, 3) # 3번째 인덱스부터 2가 처음 나오는 인덱스 반환"
   ]
  },
  {
   "cell_type": "markdown",
   "id": "0df1f72a-1fcd-4021-b381-1fd0ff7aeeea",
   "metadata": {},
   "source": [
    "## 1.5 리스트의 원하는 내용만 추출하기"
   ]
  },
  {
   "cell_type": "markdown",
   "id": "cbb5c90b-ffd3-476d-8912-dfb86648a720",
   "metadata": {},
   "source": [
    "- 슬라이싱[from:to:step] ; 원하는 인덱스의 값 추출\n",
    "- 리스트 컴프리헨션 ; 원하는 데이터만 추출"
   ]
  },
  {
   "cell_type": "code",
   "execution_count": 52,
   "id": "70508486-30d2-4f2a-9587-b0d4c84d4643",
   "metadata": {},
   "outputs": [
    {
     "data": {
      "text/plain": [
       "[20, 19, 18, 13, 12, 10, 9, 5, 3, 1]"
      ]
     },
     "execution_count": 52,
     "metadata": {},
     "output_type": "execute_result"
    }
   ],
   "source": [
    "numbers = [1,3,5,9,10,12,13,18,19,20]\n",
    "numbers[::-1]"
   ]
  },
  {
   "cell_type": "code",
   "execution_count": 53,
   "id": "c6f6506a-003c-4f12-aae1-bc17c22a807d",
   "metadata": {},
   "outputs": [
    {
     "data": {
      "text/plain": [
       "[1, 5, 10, 13, 19]"
      ]
     },
     "execution_count": 53,
     "metadata": {},
     "output_type": "execute_result"
    }
   ],
   "source": [
    "numbers[::2]"
   ]
  },
  {
   "cell_type": "code",
   "execution_count": 54,
   "id": "526477b9-100a-4796-b6a8-bab633463f66",
   "metadata": {},
   "outputs": [
    {
     "data": {
      "text/plain": [
       "[10, 12, 18, 20]"
      ]
     },
     "execution_count": 54,
     "metadata": {},
     "output_type": "execute_result"
    }
   ],
   "source": [
    "# 값이 짝수인 데이터만 추출\n",
    "result = []\n",
    "for num in numbers: # [1,3,5,9,10,12,13,18,19,20]\n",
    "    if num%2 == 0:\n",
    "        result.append(num)\n",
    "result"
   ]
  },
  {
   "cell_type": "code",
   "execution_count": 55,
   "id": "2bb9c147-b81c-46b1-bfd3-31a834e53b03",
   "metadata": {},
   "outputs": [
    {
     "data": {
      "text/plain": [
       "[10, 12, 18, 20]"
      ]
     },
     "execution_count": 55,
     "metadata": {},
     "output_type": "execute_result"
    }
   ],
   "source": [
    "# 리스트 컴프리헨션\n",
    "result = [num for num in numbers if num%2 == 0]\n",
    "result"
   ]
  },
  {
   "cell_type": "code",
   "execution_count": 57,
   "id": "93f020d6-f4e1-48db-9cff-02a55c9d8e10",
   "metadata": {},
   "outputs": [
    {
     "data": {
      "text/plain": [
       "[1, 9, 25]"
      ]
     },
     "execution_count": 57,
     "metadata": {},
     "output_type": "execute_result"
    }
   ],
   "source": [
    "# numbers 리스트의 제곱값을 리스트로 생성하여라\n",
    "numbers = [1, 3, 5]\n",
    "result = [num**2 for num in numbers]\n",
    "result"
   ]
  },
  {
   "cell_type": "code",
   "execution_count": 60,
   "id": "4ff0147f-963e-4de8-8930-354f50e21579",
   "metadata": {},
   "outputs": [
    {
     "data": {
      "text/plain": [
       "['banana', 'apple', 'orange', 'grape']"
      ]
     },
     "execution_count": 60,
     "metadata": {},
     "output_type": "execute_result"
    }
   ],
   "source": [
    "# 과일의 글자가 5글자 이상인 과일을 추출하세요\n",
    "fruits = ['banana', 'apple', 'orange', 'grape', 'kiwi']\n",
    "result = [fruit for fruit in fruits if len(fruit) >= 5]\n",
    "result"
   ]
  },
  {
   "cell_type": "code",
   "execution_count": 61,
   "id": "3a4f56e0-027e-40e8-a4ce-8fa3e13d0d7d",
   "metadata": {},
   "outputs": [
    {
     "data": {
      "text/plain": [
       "[6, 5, 6, 5]"
      ]
     },
     "execution_count": 61,
     "metadata": {},
     "output_type": "execute_result"
    }
   ],
   "source": [
    "# 과일의 글자가 5글자 이상인 과일의 글자수 추출하세요\n",
    "fruits = ['banana', 'apple', 'orange', 'grape', 'kiwi']\n",
    "result = [len(fruit) for fruit in fruits if len(fruit) >= 5]\n",
    "result"
   ]
  },
  {
   "cell_type": "markdown",
   "id": "23914fb2-9b50-43d6-89a9-957b1920969c",
   "metadata": {},
   "source": [
    "## 1.6 삭제하기\n",
    "- remove(data) : 리스트에서 해당 data가 제거\n",
    "- del 리스트[idx] : idx번째 요소 제거\n",
    "- pop() : 리스트의 가장 마지막 인덱스 요소가 return되고 삭제"
   ]
  },
  {
   "cell_type": "code",
   "execution_count": 64,
   "id": "ac974db2-1920-4ff5-9c8d-6f2c3398ff0c",
   "metadata": {},
   "outputs": [
    {
     "name": "stdout",
     "output_type": "stream",
     "text": [
      "4\n"
     ]
    },
    {
     "data": {
      "text/plain": [
       "[1, 2, 3]"
      ]
     },
     "execution_count": 64,
     "metadata": {},
     "output_type": "execute_result"
    }
   ],
   "source": [
    "numbers = [1, 2, 3, 4]\n",
    "print(numbers.pop())\n",
    "numbers"
   ]
  },
  {
   "cell_type": "code",
   "execution_count": 65,
   "id": "4e8d4a5b-95cf-4568-ace9-8fe7a11c79aa",
   "metadata": {},
   "outputs": [
    {
     "data": {
      "text/plain": [
       "[2, 3]"
      ]
     },
     "execution_count": 65,
     "metadata": {},
     "output_type": "execute_result"
    }
   ],
   "source": [
    "numbers.remove(1) # 없는 data remove 시 error\n",
    "numbers"
   ]
  },
  {
   "cell_type": "code",
   "execution_count": 66,
   "id": "5808b3de-a4be-45b1-ae10-b64e8e9f937e",
   "metadata": {},
   "outputs": [
    {
     "data": {
      "text/plain": [
       "[3]"
      ]
     },
     "execution_count": 66,
     "metadata": {},
     "output_type": "execute_result"
    }
   ],
   "source": [
    "del numbers[0]\n",
    "numbers"
   ]
  },
  {
   "cell_type": "code",
   "execution_count": 70,
   "id": "20dbc8b8-ed7f-4f62-a68b-4c8596d5f332",
   "metadata": {},
   "outputs": [
    {
     "ename": "NameError",
     "evalue": "name 'numbers' is not defined",
     "output_type": "error",
     "traceback": [
      "\u001b[1;31m---------------------------------------------------------------------------\u001b[0m",
      "\u001b[1;31mNameError\u001b[0m                                 Traceback (most recent call last)",
      "Cell \u001b[1;32mIn[70], line 1\u001b[0m\n\u001b[1;32m----> 1\u001b[0m \u001b[38;5;28;01mdel\u001b[39;00m numbers\n",
      "\u001b[1;31mNameError\u001b[0m: name 'numbers' is not defined"
     ]
    }
   ],
   "source": [
    "del numbers # 리스트 자체를 메모리에서 제거"
   ]
  },
  {
   "cell_type": "markdown",
   "id": "b459f913-e966-4362-9bce-776eb9327599",
   "metadata": {},
   "source": [
    "## 1.7 정렬하기"
   ]
  },
  {
   "cell_type": "code",
   "execution_count": 75,
   "id": "41ac1f66-2ee3-4eb7-a278-0f7160fee911",
   "metadata": {},
   "outputs": [
    {
     "data": {
      "text/plain": [
       "[10, 9, 5, 5, 1]"
      ]
     },
     "execution_count": 75,
     "metadata": {},
     "output_type": "execute_result"
    }
   ],
   "source": [
    "numbers = [9, 10, 1, 5, 5]\n",
    "numbers.sort(reverse = True) # 내림차순\n",
    "# numbers.sort() # 오름차순\n",
    "numbers"
   ]
  },
  {
   "cell_type": "markdown",
   "id": "17b0e571-ae95-4b98-9a3e-98052c74d7a6",
   "metadata": {},
   "source": [
    "## 1.8 리스트 복제"
   ]
  },
  {
   "cell_type": "code",
   "execution_count": 80,
   "id": "2f0f2c0b-c2a5-4200-b60f-3bfea36626c4",
   "metadata": {},
   "outputs": [
    {
     "name": "stdout",
     "output_type": "stream",
     "text": [
      "정렬 전 데이터 : [1, 2, 6]\n",
      "정렬 후 데이터 : [1, 2, 6]\n"
     ]
    }
   ],
   "source": [
    "numbers = [6, 1, 2]\n",
    "new_numbers = numbers # 얕은 복사 : 주소만 복사함\n",
    "numbers.sort()\n",
    "print(\"정렬 전 데이터 :\", new_numbers)\n",
    "print(\"정렬 후 데이터 :\", numbers)"
   ]
  },
  {
   "cell_type": "code",
   "execution_count": 82,
   "id": "1d4d8e2d-1005-4579-b35b-ede9d9ad752c",
   "metadata": {},
   "outputs": [
    {
     "name": "stdout",
     "output_type": "stream",
     "text": [
      "정렬 전 데이터 : [6, 1, 2]\n",
      "정렬 후 데이터 : [1, 2, 6]\n"
     ]
    }
   ],
   "source": [
    "numbers = [6, 1, 2]\n",
    "new_numbers = numbers.copy() # 깊은 복사 : 새로운 주소에 데이터를 저장함 (독립된 데이터)\n",
    "numbers.sort()\n",
    "print(\"정렬 전 데이터 :\", new_numbers)\n",
    "print(\"정렬 후 데이터 :\", numbers)"
   ]
  },
  {
   "cell_type": "markdown",
   "id": "fcd64635-6699-49ec-a2a5-34780cc12925",
   "metadata": {},
   "source": [
    "# 2절. 튜플"
   ]
  },
  {
   "cell_type": "markdown",
   "id": "a0668b69-d9a0-45c6-ae91-351b99f62f01",
   "metadata": {},
   "source": [
    "- 리스트와 유사하지만 읽기 전용\n",
    "- () 이용해서 생성"
   ]
  },
  {
   "cell_type": "code",
   "execution_count": 83,
   "id": "4ab60039-911e-4a15-9b20-768ba60c1d40",
   "metadata": {},
   "outputs": [
    {
     "name": "stdout",
     "output_type": "stream",
     "text": [
      "<class 'tuple'>\n",
      "('서울', '부산', '광주', '대전')\n"
     ]
    }
   ],
   "source": [
    "city = ('서울', '부산', '광주', '대전')\n",
    "print(type(city))\n",
    "print(city)"
   ]
  },
  {
   "cell_type": "code",
   "execution_count": 84,
   "id": "820ad585-39cc-4905-8165-14d63e19fb49",
   "metadata": {},
   "outputs": [
    {
     "data": {
      "text/plain": [
       "'서울~부산~광주~대전'"
      ]
     },
     "execution_count": 84,
     "metadata": {},
     "output_type": "execute_result"
    }
   ],
   "source": [
    "'~'.join(city)"
   ]
  },
  {
   "cell_type": "code",
   "execution_count": 90,
   "id": "47c3cb68-064f-46ef-a522-b497b3e3cede",
   "metadata": {},
   "outputs": [
    {
     "data": {
      "text/plain": [
       "list"
      ]
     },
     "execution_count": 90,
     "metadata": {},
     "output_type": "execute_result"
    }
   ],
   "source": [
    "list_ = ['서울']\n",
    "type(list_)"
   ]
  },
  {
   "cell_type": "code",
   "execution_count": 88,
   "id": "a8015d11-5862-448f-a23a-771b99a81af9",
   "metadata": {},
   "outputs": [
    {
     "data": {
      "text/plain": [
       "tuple"
      ]
     },
     "execution_count": 88,
     "metadata": {},
     "output_type": "execute_result"
    }
   ],
   "source": [
    "t = ('서울', ) # 요소가 하나인 튜플은 ,가 꼭 필요함 (안쓰면 str)\n",
    "type(t)"
   ]
  },
  {
   "cell_type": "markdown",
   "id": "3332cd36-a9c6-43a1-8a60-3e1385ca9ff4",
   "metadata": {},
   "source": [
    "# 3절. 딕셔너리"
   ]
  },
  {
   "cell_type": "markdown",
   "id": "ee327762-88cc-4635-a6c0-06a87f9ffcef",
   "metadata": {},
   "source": [
    "- 구조체와 유사 (데이터 추가 가능함)\n",
    "- {}를 이용해서 생성. key-value의 쌍으로 구성\n",
    "- key는 중복될 수 없음, value는 중복 가능.\n",
    "- index를 이용한 참조 불가"
   ]
  },
  {
   "cell_type": "code",
   "execution_count": 93,
   "id": "841427ee-7835-45cd-9879-953f66cd81d8",
   "metadata": {},
   "outputs": [
    {
     "name": "stdout",
     "output_type": "stream",
     "text": [
      "<class 'dict'>\n",
      "{'name': '홍길동', 'address': '서울시 금천구'}\n"
     ]
    }
   ],
   "source": [
    "dic = {'name':'홍길동', 'address':'서울시 금천구'}\n",
    "print(type(dic))\n",
    "print(dic)"
   ]
  },
  {
   "cell_type": "code",
   "execution_count": 98,
   "id": "1c9ac0ea-d0f3-481c-b050-0a182504f37f",
   "metadata": {},
   "outputs": [
    {
     "data": {
      "text/plain": [
       "('홍길동', '서울시 금천구')"
      ]
     },
     "execution_count": 98,
     "metadata": {},
     "output_type": "execute_result"
    }
   ],
   "source": [
    "dic['name'], dic['address']"
   ]
  },
  {
   "cell_type": "code",
   "execution_count": 99,
   "id": "3dd0f228-d516-48da-baa7-d3d6520c1a95",
   "metadata": {},
   "outputs": [
    {
     "ename": "KeyError",
     "evalue": "'score'",
     "output_type": "error",
     "traceback": [
      "\u001b[1;31m---------------------------------------------------------------------------\u001b[0m",
      "\u001b[1;31mKeyError\u001b[0m                                  Traceback (most recent call last)",
      "Cell \u001b[1;32mIn[99], line 1\u001b[0m\n\u001b[1;32m----> 1\u001b[0m dic[\u001b[38;5;124m'\u001b[39m\u001b[38;5;124mscore\u001b[39m\u001b[38;5;124m'\u001b[39m]\n",
      "\u001b[1;31mKeyError\u001b[0m: 'score'"
     ]
    }
   ],
   "source": [
    "dic['score']"
   ]
  },
  {
   "cell_type": "code",
   "execution_count": 100,
   "id": "cc5445bd-ea0e-4d40-81be-40a1534b0f79",
   "metadata": {},
   "outputs": [
    {
     "data": {
      "text/plain": [
       "('홍길동', '서울시 금천구', None)"
      ]
     },
     "execution_count": 100,
     "metadata": {},
     "output_type": "execute_result"
    }
   ],
   "source": [
    "dic.get('name'), dic.get('address'), dic.get('score')"
   ]
  },
  {
   "cell_type": "code",
   "execution_count": 102,
   "id": "58457182-43be-4c26-b6b1-dc3736609692",
   "metadata": {},
   "outputs": [
    {
     "name": "stdout",
     "output_type": "stream",
     "text": [
      "{'name': '홍길동', 'address': '서울시 금천구', 'score': 100, 'sport': 'sleep'}\n"
     ]
    }
   ],
   "source": [
    "# 수정\n",
    "dic['score'] = 100\n",
    "dic['sport'] = 'sleep'\n",
    "print(dic)"
   ]
  },
  {
   "cell_type": "code",
   "execution_count": 103,
   "id": "802f8b43-e3df-4c8f-9e4a-382673c72854",
   "metadata": {},
   "outputs": [
    {
     "name": "stdout",
     "output_type": "stream",
     "text": [
      "{'name': '홍길동', 'address': '서울시 금천구', 'score': 100}\n"
     ]
    }
   ],
   "source": [
    "dic.pop('sport')\n",
    "print(dic)"
   ]
  },
  {
   "cell_type": "code",
   "execution_count": 107,
   "id": "1b04523c-7279-4bc6-947d-615f458fc53a",
   "metadata": {},
   "outputs": [
    {
     "name": "stdout",
     "output_type": "stream",
     "text": [
      "name\n",
      "address\n",
      "score\n",
      "0 name\n",
      "1 address\n",
      "2 score\n"
     ]
    }
   ],
   "source": [
    "# 리스트(튜플, 셋)방식으로 for문을 사용하면 key만 출력\n",
    "for data in dic:\n",
    "    print(data)\n",
    "\n",
    "for idx, data in enumerate(dic):\n",
    "    print(idx, data)"
   ]
  },
  {
   "cell_type": "code",
   "execution_count": 108,
   "id": "830155b7-d655-470f-ad74-eb207e22fb71",
   "metadata": {},
   "outputs": [
    {
     "data": {
      "text/plain": [
       "dict_keys(['name', 'address', 'score'])"
      ]
     },
     "execution_count": 108,
     "metadata": {},
     "output_type": "execute_result"
    }
   ],
   "source": [
    "dic.keys()"
   ]
  },
  {
   "cell_type": "code",
   "execution_count": 109,
   "id": "885023cc-8efd-45a8-bd19-9a1c55a3d6c1",
   "metadata": {},
   "outputs": [
    {
     "data": {
      "text/plain": [
       "dict_values(['홍길동', '서울시 금천구', 100])"
      ]
     },
     "execution_count": 109,
     "metadata": {},
     "output_type": "execute_result"
    }
   ],
   "source": [
    "dic.values()"
   ]
  },
  {
   "cell_type": "code",
   "execution_count": 111,
   "id": "5f0519b3-2e91-4e10-80b3-058ad43ffef8",
   "metadata": {},
   "outputs": [
    {
     "data": {
      "text/plain": [
       "dict_items([('name', '홍길동'), ('address', '서울시 금천구'), ('score', 100)])"
      ]
     },
     "execution_count": 111,
     "metadata": {},
     "output_type": "execute_result"
    }
   ],
   "source": [
    "dic.items() # key-value 가 튜플형태로 묶인 리스트 반환!!!!!"
   ]
  },
  {
   "cell_type": "code",
   "execution_count": 112,
   "id": "6bd3ba94-4d63-4f2c-ab60-63607d461201",
   "metadata": {},
   "outputs": [
    {
     "name": "stdout",
     "output_type": "stream",
     "text": [
      "홍길동\n",
      "서울시 금천구\n",
      "100\n"
     ]
    }
   ],
   "source": [
    "for data in dic.values():\n",
    "     print(data) "
   ]
  },
  {
   "cell_type": "code",
   "execution_count": 113,
   "id": "02d22f84-1ec3-4e2b-ba58-3fc217a15b7d",
   "metadata": {},
   "outputs": [
    {
     "name": "stdout",
     "output_type": "stream",
     "text": [
      "name 홍길동\n",
      "address 서울시 금천구\n",
      "score 100\n"
     ]
    }
   ],
   "source": [
    "for key, value in dic.items():\n",
    "    print(key, value)"
   ]
  },
  {
   "cell_type": "code",
   "execution_count": 114,
   "id": "1541a0af-2f82-4c93-845a-5b0bc2056218",
   "metadata": {},
   "outputs": [
    {
     "data": {
      "text/plain": [
       "True"
      ]
     },
     "execution_count": 114,
     "metadata": {},
     "output_type": "execute_result"
    }
   ],
   "source": [
    "l = ['a','b','c']\n",
    "'c' in l"
   ]
  },
  {
   "cell_type": "code",
   "execution_count": 115,
   "id": "13b1043b-9cbb-4943-ab13-64f205094995",
   "metadata": {},
   "outputs": [
    {
     "data": {
      "text/plain": [
       "True"
      ]
     },
     "execution_count": 115,
     "metadata": {},
     "output_type": "execute_result"
    }
   ],
   "source": [
    "dic = {'name': '홍길동', 'score': 100}\n",
    "'name' in dic"
   ]
  },
  {
   "cell_type": "code",
   "execution_count": 116,
   "id": "67e6dc66-606c-412d-b171-b204a97f3a9d",
   "metadata": {},
   "outputs": [
    {
     "data": {
      "text/plain": [
       "False"
      ]
     },
     "execution_count": 116,
     "metadata": {},
     "output_type": "execute_result"
    }
   ],
   "source": [
    "'홍길동' in dic"
   ]
  },
  {
   "cell_type": "code",
   "execution_count": 118,
   "id": "5b91d61f-a27f-4c54-8291-4cbd7b486212",
   "metadata": {},
   "outputs": [
    {
     "data": {
      "text/plain": [
       "2"
      ]
     },
     "execution_count": 118,
     "metadata": {},
     "output_type": "execute_result"
    }
   ],
   "source": [
    "len(dic) # data 갯수"
   ]
  },
  {
   "cell_type": "markdown",
   "id": "50d8b948-0efa-4799-882b-9426d2b9ad7e",
   "metadata": {},
   "source": [
    "# 4절. 셋"
   ]
  },
  {
   "cell_type": "markdown",
   "id": "01aa07da-7952-446f-ad2e-fc9cde44af60",
   "metadata": {},
   "source": [
    "- 중복을 허용하지 않는 리스트(순서x = index가 존재x)"
   ]
  },
  {
   "cell_type": "code",
   "execution_count": 125,
   "id": "4848bd61-2d8e-45b7-9abf-47ca0d496501",
   "metadata": {},
   "outputs": [
    {
     "name": "stdout",
     "output_type": "stream",
     "text": [
      "{'apple', 0, 'orange', 'banana'}\n",
      "<class 'set'>\n"
     ]
    }
   ],
   "source": [
    "fruits = {'apple','orange', 'banana', 'banana', 0, 0}\n",
    "print(fruits)\n",
    "print(type(fruits))"
   ]
  },
  {
   "cell_type": "code",
   "execution_count": 126,
   "id": "1b7f7b23-8adb-45ea-a6e2-ef722be56f1e",
   "metadata": {},
   "outputs": [
    {
     "name": "stdout",
     "output_type": "stream",
     "text": [
      "{0, 'orange', 'kiwi', 'banana', 'apple'}\n"
     ]
    }
   ],
   "source": [
    "fruits.add('kiwi')\n",
    "print(fruits)"
   ]
  },
  {
   "cell_type": "code",
   "execution_count": 127,
   "id": "d87ac00d-566f-4d8f-976a-90f6db4755a8",
   "metadata": {},
   "outputs": [
    {
     "name": "stdout",
     "output_type": "stream",
     "text": [
      "{0, 'orange', 'kiwi', 'banana', 'apple'}\n"
     ]
    }
   ],
   "source": [
    "fruits.add('banana')\n",
    "print(fruits)"
   ]
  },
  {
   "cell_type": "code",
   "execution_count": 128,
   "id": "5c697a15-6d1a-49f2-9852-9107579bb98d",
   "metadata": {},
   "outputs": [
    {
     "name": "stdout",
     "output_type": "stream",
     "text": [
      "0, 0\n",
      "1, orange\n",
      "2, kiwi\n",
      "3, banana\n",
      "4, apple\n"
     ]
    }
   ],
   "source": [
    "for i, value in enumerate(fruits): # index가 의미가 없음\n",
    "    print(\"{}, {}\".format(i, value))"
   ]
  },
  {
   "cell_type": "code",
   "execution_count": 129,
   "id": "83018dbd-921a-4aca-83f4-f7571f4ff92f",
   "metadata": {},
   "outputs": [
    {
     "name": "stdout",
     "output_type": "stream",
     "text": [
      "0\n",
      "orange\n",
      "kiwi\n",
      "banana\n",
      "apple\n"
     ]
    }
   ],
   "source": [
    "for data in fruits:\n",
    "    print(data)"
   ]
  },
  {
   "cell_type": "markdown",
   "id": "a3171434-f42f-4cf2-8ee6-207a73a7dc79",
   "metadata": {},
   "source": [
    "# 5절. 연습문제"
   ]
  },
  {
   "cell_type": "code",
   "execution_count": 2,
   "id": "22ba6451-fc6f-4327-a547-6aa140ecfc89",
   "metadata": {},
   "outputs": [
    {
     "name": "stdout",
     "output_type": "stream",
     "text": [
      "[1, 2, 3, 4, 5, 6, 7, 8, 9, 10, 100]\n"
     ]
    }
   ],
   "source": [
    "# 5.1\n",
    "numbers = [1,2,3,4,5,6,7,8,9,10]\n",
    "numbers.append(100)\n",
    "print(numbers)"
   ]
  },
  {
   "cell_type": "code",
   "execution_count": 3,
   "id": "aea6c2b3-fe65-4665-909c-0d0f5c0015be",
   "metadata": {},
   "outputs": [
    {
     "name": "stdout",
     "output_type": "stream",
     "text": [
      "[1, 2, 3, 4, 5, 6, 7, 8, 9, 10, 100, 200, 300, 400, 500]\n"
     ]
    }
   ],
   "source": [
    "# 5.2\n",
    "data = [200, 300, 400, 500]\n",
    "numbers = numbers + data\n",
    "print(numbers)"
   ]
  },
  {
   "cell_type": "code",
   "execution_count": 4,
   "id": "03872ac2-ef22-49d6-b695-5ed9e9a2033a",
   "metadata": {},
   "outputs": [
    {
     "name": "stdout",
     "output_type": "stream",
     "text": [
      "[1, 2, 3, 4, 5]\n"
     ]
    }
   ],
   "source": [
    "# 5.3\n",
    "print(numbers[0:5])"
   ]
  },
  {
   "cell_type": "code",
   "execution_count": 5,
   "id": "2d2a4c6f-d60d-45e8-8cf1-b9b8b7e14d63",
   "metadata": {},
   "outputs": [
    {
     "name": "stdout",
     "output_type": "stream",
     "text": [
      "[2, 4, 6, 8, 10, 200, 400]\n"
     ]
    }
   ],
   "source": [
    "# 5.4\n",
    "print(numbers[1::2])"
   ]
  },
  {
   "cell_type": "code",
   "execution_count": 6,
   "id": "f391a36a-39eb-4db9-b91c-374e53520c8c",
   "metadata": {},
   "outputs": [
    {
     "name": "stdout",
     "output_type": "stream",
     "text": [
      "[1, 0, 3, 0, 5, 0, 7, 0, 9, 0, 100, 0, 300, 0, 500]\n"
     ]
    }
   ],
   "source": [
    "for idx, value in enumerate(numbers):\n",
    "    if (idx + 1)%2 == 0 :\n",
    "        numbers[idx] = 0\n",
    "print(numbers)"
   ]
  },
  {
   "cell_type": "code",
   "execution_count": 7,
   "id": "4e65c8e5-2b8d-4caf-a9e2-c6deaaf3c5df",
   "metadata": {},
   "outputs": [
    {
     "name": "stdout",
     "output_type": "stream",
     "text": [
      "6번 결과 : [500, 0, 300, 0, 100, 0, 9, 0, 7, 0, 5, 0, 3, 0, 1]\n"
     ]
    }
   ],
   "source": [
    "print('6번 결과 :', numbers[::-1])"
   ]
  },
  {
   "cell_type": "code",
   "execution_count": 8,
   "id": "7602d0f3-40fe-41aa-8aee-dbc9182346e5",
   "metadata": {},
   "outputs": [
    {
     "name": "stdout",
     "output_type": "stream",
     "text": [
      "7번 결과 : 서울시 금천구\n",
      "7번 결과 : 서울시 금천구\n",
      "8번 score 삭제  90\n",
      "8번 삭제 확인 :  {'name': '홍길동', 'age': 20, 'address': '서울시 금천구'}\n",
      "9번 확인 : {'name': '홍길동', 'age': 20, 'address': '서울시 마포구'}\n",
      "10번 결과 : ['홍길동', 20, '서울시 마포구']\n"
     ]
    }
   ],
   "source": [
    "member = {'name':\"홍길동\",\"age\":20,\"address\":\"서울시 금천구\", 'score':90}\n",
    "# 7번 address값 출력\n",
    "print('7번 결과 :', member['address'])\n",
    "print('7번 결과 :', member.get('address'))\n",
    "# 8 score를 출력하고 딕셔너리에서 삭제 방법1\n",
    "# print(member['score'])\n",
    "# del member['score'] del은 삭제만 되고 pop는 출력되고 삭제됨\n",
    "print('8번 score 삭제 ', member.pop('score'))\n",
    "print('8번 삭제 확인 : ', member)\n",
    "#9. address변경\n",
    "member['address'] ='서울시 마포구'\n",
    "print('9번 확인 :', member)\n",
    "# 10 데이터 값만 리스트로 출력\n",
    "print('10번 결과 :',list(member.values()))"
   ]
  }
 ],
 "metadata": {
  "kernelspec": {
   "display_name": "Python 3 (ipykernel)",
   "language": "python",
   "name": "python3"
  },
  "language_info": {
   "codemirror_mode": {
    "name": "ipython",
    "version": 3
   },
   "file_extension": ".py",
   "mimetype": "text/x-python",
   "name": "python",
   "nbconvert_exporter": "python",
   "pygments_lexer": "ipython3",
   "version": "3.11.7"
  }
 },
 "nbformat": 4,
 "nbformat_minor": 5
}
