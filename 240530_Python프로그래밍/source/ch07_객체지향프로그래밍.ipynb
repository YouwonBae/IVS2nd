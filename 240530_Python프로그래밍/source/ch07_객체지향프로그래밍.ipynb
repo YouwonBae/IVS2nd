{
 "cells": [
  {
   "cell_type": "markdown",
   "id": "c608381d-d02a-438e-a7c3-4568e42633fe",
   "metadata": {},
   "source": [
    "<font size = '7' color = 'red'><b>ch07. 객체지향 프로그래밍</b></font>"
   ]
  },
  {
   "cell_type": "markdown",
   "id": "33a9fff6-ac11-4538-9cc8-b5d5a66c9638",
   "metadata": {},
   "source": [
    "# 1절. 객체와 클래스"
   ]
  },
  {
   "cell_type": "markdown",
   "id": "48acfe5b-f727-49b6-a6d9-52c880e70972",
   "metadata": {},
   "source": [
    "```\n",
    "class 클래스명(상속받을 클래스명):\n",
    "    변수나 함수들을 선언\n",
    "```"
   ]
  },
  {
   "cell_type": "code",
   "execution_count": 1,
   "id": "90e9e5c1-6d47-4852-998b-6a652348564a",
   "metadata": {},
   "outputs": [],
   "source": [
    "class Person:\n",
    "    \"Person 클래스는 어쩌구 저쩌구 여러줄 설명하는 docstring\"\n",
    "    pass\n",
    "p1 = Person()"
   ]
  },
  {
   "cell_type": "code",
   "execution_count": 29,
   "id": "98a0bca1-9d60-4267-a73a-425123979c07",
   "metadata": {},
   "outputs": [],
   "source": [
    "class Person(): # Person 클래스 선언\n",
    "    'person은 이름과 성별 멤버 변수가 있는 객체타입입니다.'\n",
    "    def __init__(self, name='홍길동', gender='남자'): # 객체 생성자 함수\n",
    "        self.name = name # 멤버 변수\n",
    "        self.gender = gender # 멤버 변수\n",
    "        print(\"{}, {} Person 객체가 메모리에 생성되었습니다.\".format(self.name, self.gender))\n",
    "\n",
    "    def print_info(self): # 메소드(객체 내 함수)\n",
    "        print(\"{}님은 {}입니다.\".format(self.name, self.gender) , end='\\t')\n",
    "\n",
    "    def printCnt(self, cnt): # 메소드(객체 내 함수)\n",
    "        for i in range(cnt):\n",
    "            print(self.name, end='\\t')\n",
    "\n",
    "    def __str__(self): # 상속받은 __str__ 다시 세팅\n",
    "        return \"{}\\t 성별은 {}\".format(self.name, self.gender)"
   ]
  },
  {
   "cell_type": "code",
   "execution_count": 30,
   "id": "c62c697f-2d97-47cf-b62b-2e0be390281e",
   "metadata": {},
   "outputs": [
    {
     "name": "stdout",
     "output_type": "stream",
     "text": [
      "성춘향, 여자 Person 객체가 메모리에 생성되었습니다.\n"
     ]
    }
   ],
   "source": [
    "p1 = Person(\"성춘향\", \"여자\")"
   ]
  },
  {
   "cell_type": "code",
   "execution_count": 31,
   "id": "a71ce5ad-d9f0-4480-bd00-01cfcd050fd7",
   "metadata": {},
   "outputs": [
    {
     "name": "stdout",
     "output_type": "stream",
     "text": [
      "성춘향 여자\n"
     ]
    }
   ],
   "source": [
    "print(p1.name, p1.gender)"
   ]
  },
  {
   "cell_type": "code",
   "execution_count": 32,
   "id": "40e249a7-5284-406e-9787-ee336c199233",
   "metadata": {},
   "outputs": [
    {
     "name": "stdout",
     "output_type": "stream",
     "text": [
      "성춘향님은 여자입니다.\t"
     ]
    }
   ],
   "source": [
    "p1.print_info()"
   ]
  },
  {
   "cell_type": "code",
   "execution_count": 33,
   "id": "cb77ed0b-9942-4215-8f31-3ceb112a530d",
   "metadata": {},
   "outputs": [
    {
     "name": "stdout",
     "output_type": "stream",
     "text": [
      "성춘향\t성춘향\t성춘향\t성춘향\t성춘향\t"
     ]
    }
   ],
   "source": [
    "p1.printCnt(5) "
   ]
  },
  {
   "cell_type": "code",
   "execution_count": 34,
   "id": "b2218c72-d0cf-4372-8cf6-f2e917905352",
   "metadata": {},
   "outputs": [
    {
     "name": "stdout",
     "output_type": "stream",
     "text": [
      "성춘향\t 성별은 여자\n"
     ]
    }
   ],
   "source": [
    "print(p1)"
   ]
  },
  {
   "cell_type": "markdown",
   "id": "0ac45e39-a9f2-423d-bb65-0682bd98dc32",
   "metadata": {},
   "source": [
    "# 2절. 상속과 재정의(overide)"
   ]
  },
  {
   "cell_type": "code",
   "execution_count": 35,
   "id": "ecfdd491-28ea-4498-abd8-ee2af0a76694",
   "metadata": {},
   "outputs": [],
   "source": [
    "# 검증된 클래스를 상속받아 해다 클래스에 대한 검증기간을 단축시킴 : 소프트웨어 재사용성 증가"
   ]
  },
  {
   "cell_type": "code",
   "execution_count": 61,
   "id": "dd51d31d-a966-4e55-831b-0451d4963ce3",
   "metadata": {},
   "outputs": [],
   "source": [
    "class Student(Person):\n",
    "    'name, gender, major 멤버변수를 갖는 Student 타입'\n",
    "    def __init__(self, name, gender, major):\n",
    "        # 부모 클래스의 생성자 함수로 name, gender 초기화\n",
    "        super().__init__(name, gender)\n",
    "        # Person.__init__(name, gender)\n",
    "\n",
    "        self.major = major\n",
    "\n",
    "    def print_info(self): # 부모 클래스 재정의\n",
    "        super().print_info()\n",
    "        print(\"그리고 {}전공입니다.\".format(self.major))\n",
    "\n",
    "    def __str__(self):\n",
    "        return super().__str__() + \"그리고 전공은 {}\".format(self.major)"
   ]
  },
  {
   "cell_type": "code",
   "execution_count": 62,
   "id": "3a7ef962-437d-4233-aa19-449a83fa08f3",
   "metadata": {},
   "outputs": [
    {
     "name": "stdout",
     "output_type": "stream",
     "text": [
      "김철수, 남자 Person 객체가 메모리에 생성되었습니다.\n"
     ]
    }
   ],
   "source": [
    "s1 = Student('김철수', '남자', '컴공')"
   ]
  },
  {
   "cell_type": "code",
   "execution_count": 63,
   "id": "1c07613e-e510-4a4e-9fe9-beb9327e4f78",
   "metadata": {},
   "outputs": [
    {
     "data": {
      "text/plain": [
       "('김철수', '남자', '컴공')"
      ]
     },
     "execution_count": 63,
     "metadata": {},
     "output_type": "execute_result"
    }
   ],
   "source": [
    "s1.name, s1.gender, s1.major"
   ]
  },
  {
   "cell_type": "code",
   "execution_count": 64,
   "id": "9e337d1e-7539-4f77-b70d-cfedb28ddd9b",
   "metadata": {},
   "outputs": [
    {
     "name": "stdout",
     "output_type": "stream",
     "text": [
      "김철수님은 남자입니다.\t그리고 컴공전공입니다.\n"
     ]
    }
   ],
   "source": [
    "s1.print_info()"
   ]
  },
  {
   "cell_type": "code",
   "execution_count": 65,
   "id": "67738e66-409a-4787-94f4-4e43aacaf688",
   "metadata": {},
   "outputs": [
    {
     "name": "stdout",
     "output_type": "stream",
     "text": [
      "김철수\t김철수\t김철수\t김철수\t김철수\t"
     ]
    }
   ],
   "source": [
    "s1.printCnt(5) "
   ]
  },
  {
   "cell_type": "code",
   "execution_count": 66,
   "id": "9aab4bb1-8e59-4a8b-a723-c8d014300b18",
   "metadata": {},
   "outputs": [
    {
     "name": "stdout",
     "output_type": "stream",
     "text": [
      "김철수\t 성별은 남자그리고 전공은 컴공\n"
     ]
    }
   ],
   "source": [
    "print(s1)"
   ]
  },
  {
   "cell_type": "markdown",
   "id": "224937ca-310f-4dd9-85b0-318913fa74ac",
   "metadata": {},
   "source": [
    "# 연습문제"
   ]
  },
  {
   "cell_type": "code",
   "execution_count": 1,
   "id": "93bfe56c-57a0-4c58-8019-22d8b39fe64b",
   "metadata": {},
   "outputs": [
    {
     "name": "stdout",
     "output_type": "stream",
     "text": [
      "10, 8 Shape 객체가 메모리에 생성되었습니다.\n",
      "width : 10\t height : 8\n",
      "80\n",
      "width : 4\t height : 2\n",
      "8\n"
     ]
    }
   ],
   "source": [
    "# 연습문제 1\n",
    "class Shape(): # Person 클래스 선언\n",
    "    'person은 이름과 성별 멤버 변수가 있는 객체타입입니다.'\n",
    "    def __init__(self, width=0, height=0): # 객체 생성자 함수\n",
    "        self.width = width # 멤버 변수\n",
    "        self.height = height # 멤버 변수\n",
    "        print(\"{}, {} Shape 객체가 메모리에 생성되었습니다.\".format(self.width, self.height))\n",
    "\n",
    "    def modify(self, width, height): # 메소드(객체 내 함수)\n",
    "        self.width = width\n",
    "        self.height = height\n",
    "            \n",
    "    def calc_area(self): # 메소드(객체 내 함수)\n",
    "        return self.width * self.height\n",
    "\n",
    "    def __str__(self): # 상속받은 __str__ 다시 세팅\n",
    "        return \"width : {}\\t height : {}\".format(self.width, self.height)\n",
    "        \n",
    "s1 = Shape(10, 8)\n",
    "print(s1)\n",
    "print(s1.calc_area())\n",
    "s1.modify(4, 2)\n",
    "print(s1)\n",
    "print(s1.calc_area())"
   ]
  },
  {
   "cell_type": "code",
   "execution_count": 2,
   "id": "53eafc45-ffcf-4632-a1a3-dbb6ca4322cd",
   "metadata": {},
   "outputs": [
    {
     "name": "stdout",
     "output_type": "stream",
     "text": [
      "10, 8 Shape 객체가 메모리에 생성되었습니다.\n",
      "width : 10\t height : 8\tx : 0\t y : 0\n",
      "40.0\n",
      "width : 5\t height : 4\tx : 0\t y : 0\n",
      "10.0\n"
     ]
    }
   ],
   "source": [
    "# 연습문제 1\n",
    "class Triangle(Shape):\n",
    "    def __init__(self, width, height, x = 0, y = 0):\n",
    "        super().__init__(width, height)\n",
    "        self.x = x\n",
    "        self.y = y\n",
    "        \n",
    "    def calc_area(self): # 메소드(객체 내 함수)\n",
    "        return super().calc_area() * 0.5\n",
    "    \n",
    "    def __str__(self): # 상속받은 __str__ 다시 세팅\n",
    "        return super().__str__() + \"\\tx : {}\\t y : {}\".format(self.x, self.y)\n",
    "        \n",
    "t1 = Triangle(10, 8)\n",
    "print(t1)\n",
    "print(t1.calc_area())\n",
    "t1.modify(5, 4)\n",
    "print(t1)\n",
    "print(t1.calc_area())"
   ]
  },
  {
   "cell_type": "code",
   "execution_count": null,
   "id": "58ac9284-d59c-424d-85ec-24f7506ea538",
   "metadata": {},
   "outputs": [],
   "source": []
  }
 ],
 "metadata": {
  "kernelspec": {
   "display_name": "Python 3 (ipykernel)",
   "language": "python",
   "name": "python3"
  },
  "language_info": {
   "codemirror_mode": {
    "name": "ipython",
    "version": 3
   },
   "file_extension": ".py",
   "mimetype": "text/x-python",
   "name": "python",
   "nbconvert_exporter": "python",
   "pygments_lexer": "ipython3",
   "version": "3.11.7"
  }
 },
 "nbformat": 4,
 "nbformat_minor": 5
}
