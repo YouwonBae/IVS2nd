{
 "cells": [
  {
   "cell_type": "markdown",
   "id": "aa831b65-c37c-4e95-b783-019d12632624",
   "metadata": {},
   "source": [
    "<font color=\"red\" size = \"7\"><b> ch01. 파이썬 개요 및 환경설정</b></font>"
   ]
  },
  {
   "cell_type": "markdown",
   "id": "d05069e2-2c85-41b1-b4a0-3b24f914bb5d",
   "metadata": {},
   "source": [
    "# 1. 주피터 노트북 사용법(큰제목)\n",
    "    - shift + Enter : 포커스 된 셀이 실행되고 다음셀로 이동\n",
    "    - alt + Enter : 포커스된 셀이 실행되고 다음셀이 생성된 후 이동\n",
    "    - ctrl + Enter : 포커스 된 셀이 실행되고 포커스 이동 없음\n",
    "    - Enter(or click) : 셀이 포커스된(편집 상태)"
   ]
  },
  {
   "cell_type": "code",
   "execution_count": 6,
   "id": "3657c98e-6ff2-4b47-944e-e43dd9e3fc4c",
   "metadata": {},
   "outputs": [
    {
     "name": "stdout",
     "output_type": "stream",
     "text": [
      "Hello\n"
     ]
    }
   ],
   "source": [
    "print('Hello')"
   ]
  },
  {
   "cell_type": "code",
   "execution_count": 7,
   "id": "bac82634-7c9c-433b-beb1-f25bfed5031d",
   "metadata": {},
   "outputs": [
    {
     "data": {
      "text/plain": [
       "3"
      ]
     },
     "execution_count": 7,
     "metadata": {},
     "output_type": "execute_result"
    }
   ],
   "source": [
    "a = 1\n",
    "b = '2'\n",
    "a + int(b) # 문자 + 숫자 불가능"
   ]
  },
  {
   "cell_type": "code",
   "execution_count": null,
   "id": "f287e0c2-f8ca-456a-8191-95a38a5f7255",
   "metadata": {},
   "outputs": [],
   "source": [
    "# for i in range(1000000000000000):\n",
    "#     print(i)\n",
    "# 중지 : kernel > 다양한 restart 기능이나 shutdown 기능"
   ]
  },
  {
   "cell_type": "markdown",
   "id": "d7b1c67a-fd3b-40a8-b87a-8bad6b8859a6",
   "metadata": {},
   "source": [
    "# 2. ESC키 누르고 핫키\n",
    "- dd : 셀 삭제\n",
    "- a : 윗셀 삭제\n",
    "- b : 아래셀 삭제\n",
    "- m : 마크다운 셀로 전환\n",
    "- y : 코드 셀로 전환"
   ]
  },
  {
   "cell_type": "markdown",
   "id": "021fcade-9f08-4df1-9a76-900a44701760",
   "metadata": {},
   "source": [
    "# 3. 마크다운이란?\n",
    "- 코드와 함께 문서화할 수 있다.\n",
    "```\n",
    "    여러줄 설명은\n",
    "    줄바꿈으로 할 수 있습니다.\n",
    "```"
   ]
  },
  {
   "cell_type": "markdown",
   "id": "d414dc7d-2bc3-4e23-996a-55038d8ee8e9",
   "metadata": {},
   "source": [
    "# 4. Table of contents\n",
    "- View > Table of contents\n",
    "- !dir # 주피터 노트북에서 !는 cmd명령어 수행 가능"
   ]
  }
 ],
 "metadata": {
  "kernelspec": {
   "display_name": "Python 3 (ipykernel)",
   "language": "python",
   "name": "python3"
  },
  "language_info": {
   "codemirror_mode": {
    "name": "ipython",
    "version": 3
   },
   "file_extension": ".py",
   "mimetype": "text/x-python",
   "name": "python",
   "nbconvert_exporter": "python",
   "pygments_lexer": "ipython3",
   "version": "3.11.7"
  }
 },
 "nbformat": 4,
 "nbformat_minor": 5
}
