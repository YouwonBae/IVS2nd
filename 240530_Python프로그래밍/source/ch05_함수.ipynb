{
 "cells": [
  {
   "cell_type": "markdown",
   "id": "e6e67c8d-2ab5-4ce6-90a3-805189157e2f",
   "metadata": {},
   "source": [
    "<font size = '7' color = 'red'><b>ch05. 함수</b></font>"
   ]
  },
  {
   "cell_type": "markdown",
   "id": "03d7a732-818d-46e1-a6d0-c8f0f49354e5",
   "metadata": {},
   "source": [
    "- 반복해서 사용할 코드를 묶어서 구현해 놓은 것\n",
    "- 같은 이름의 함수는 덮어씀(오버로딩 불가)\n",
    "- 함수 정의(구현)\n",
    "```\n",
    "    def 함수명([인수1, 인수2, ...]):\n",
    "        명령어1\n",
    "        명령어2\n",
    "        ...\n",
    "```"
   ]
  },
  {
   "cell_type": "markdown",
   "id": "04b70caa-d317-46c0-9f0f-383f172a392f",
   "metadata": {},
   "source": [
    "# 1절. 함수의 정의 및 사용(호출)"
   ]
  },
  {
   "cell_type": "markdown",
   "id": "aa7db323-7fd4-4276-b6f0-38ba6956fe42",
   "metadata": {},
   "source": [
    "## 1.1 함수정의"
   ]
  },
  {
   "cell_type": "code",
   "execution_count": 1,
   "id": "256aa431-b2e6-4dbd-952d-6cae579fe7aa",
   "metadata": {},
   "outputs": [],
   "source": [
    "def my_hello(x, msg): # 함수 정의\n",
    "    for i in range(x):\n",
    "        print(i, msg)"
   ]
  },
  {
   "cell_type": "code",
   "execution_count": 2,
   "id": "8777d743-b7e1-40cd-bff8-70642b129d61",
   "metadata": {},
   "outputs": [
    {
     "name": "stdout",
     "output_type": "stream",
     "text": [
      "0 쉬는 시간입니다\n",
      "1 쉬는 시간입니다\n",
      "2 쉬는 시간입니다\n",
      "3 쉬는 시간입니다\n",
      "4 쉬는 시간입니다\n"
     ]
    }
   ],
   "source": [
    "my_hello(5, \"쉬는 시간입니다\")"
   ]
  },
  {
   "cell_type": "code",
   "execution_count": 3,
   "id": "1febd5f9-b57e-4cb6-983d-587bae8c5261",
   "metadata": {},
   "outputs": [
    {
     "data": {
      "text/plain": [
       "function"
      ]
     },
     "execution_count": 3,
     "metadata": {},
     "output_type": "execute_result"
    }
   ],
   "source": [
    "type(my_hello)"
   ]
  },
  {
   "cell_type": "code",
   "execution_count": 4,
   "id": "dbb49b02-bffe-4f92-8d74-6fdd6c7257ff",
   "metadata": {},
   "outputs": [],
   "source": [
    "def my_hello(x): # 함수 정의\n",
    "    for i in range(x):\n",
    "        print(\"함수는 변수다\")"
   ]
  },
  {
   "cell_type": "code",
   "execution_count": 5,
   "id": "2c29396a-835b-4955-ae3f-7046704c2179",
   "metadata": {},
   "outputs": [
    {
     "name": "stdout",
     "output_type": "stream",
     "text": [
      "함수는 변수다\n",
      "함수는 변수다\n",
      "함수는 변수다\n",
      "함수는 변수다\n",
      "함수는 변수다\n"
     ]
    }
   ],
   "source": [
    "my_hello(5)"
   ]
  },
  {
   "cell_type": "code",
   "execution_count": 7,
   "id": "a13c902f-ab59-4a13-8dd7-885fb54db9d7",
   "metadata": {},
   "outputs": [
    {
     "name": "stdout",
     "output_type": "stream",
     "text": [
      "6\n",
      "3\n"
     ]
    }
   ],
   "source": [
    "def my_add(num1, num2, num3 = 0): # num3은 기본값을 갖는 인수(꼭 순서인수 뒤에 와야 함)\n",
    "    return num1 + num2 + num3\n",
    "print(my_add(1, 2, 3))\n",
    "print(my_add(1, 2))"
   ]
  },
  {
   "cell_type": "markdown",
   "id": "d27f9914-178d-47be-804b-201e5abae5d9",
   "metadata": {},
   "source": [
    "## 1.2 docstring"
   ]
  },
  {
   "cell_type": "markdown",
   "id": "ba1abf83-1f71-43e0-9dd7-cdbda2d7b1de",
   "metadata": {},
   "source": [
    "- 함수 도움말 : shift+tab로 볼 수 있음"
   ]
  },
  {
   "cell_type": "code",
   "execution_count": 9,
   "id": "4ac7d31a-d681-4de1-b13c-bf9e4ff4992e",
   "metadata": {},
   "outputs": [],
   "source": [
    "def fibonacci(n):\n",
    "    '''\n",
    "    매개변수로 들어온 n값 미만의 피보나치 수열을 출력합니다.\n",
    "    ex. 매개변수로 10 : 0, 1, 1, 2, 3, 5, 8\n",
    "    ex. 매개변수로 5 : 0, 1, 1, 2, 3\n",
    "    '''\n",
    "    a, b = 0, 1\n",
    "    while a < n:\n",
    "        print(a, end='. ')\n",
    "        a, b = b, a+b\n",
    "    print() # 개행"
   ]
  },
  {
   "cell_type": "code",
   "execution_count": 10,
   "id": "f668ed32-c104-4bb7-9eb3-cb3397c4194d",
   "metadata": {},
   "outputs": [
    {
     "name": "stdout",
     "output_type": "stream",
     "text": [
      "0. 1. 1. 2. 3. 5. 8. 13. 21. 34. 55. 89. \n"
     ]
    }
   ],
   "source": [
    "fibonacci(100)"
   ]
  },
  {
   "cell_type": "code",
   "execution_count": 11,
   "id": "67202311-72df-4146-83c3-b7dc557669a6",
   "metadata": {},
   "outputs": [
    {
     "data": {
      "text/plain": [
       "'__main__'"
      ]
     },
     "execution_count": 11,
     "metadata": {},
     "output_type": "execute_result"
    }
   ],
   "source": [
    "__name__"
   ]
  },
  {
   "cell_type": "code",
   "execution_count": 13,
   "id": "36407f2a-308e-467c-ab11-7e95025c50d7",
   "metadata": {},
   "outputs": [
    {
     "name": "stdout",
     "output_type": "stream",
     "text": [
      "0. 1. 1. 2. 3. 5. 8. 13. 21. 34. 55. 89. \n",
      "__main__ 에서 테스트함\n"
     ]
    }
   ],
   "source": [
    "if __name__ == '__main__':\n",
    "    fibonacci(100)\n",
    "    print(__name__, '에서 테스트함')"
   ]
  },
  {
   "cell_type": "code",
   "execution_count": 16,
   "id": "4c5b9f86-fc36-4bb6-9ca8-f68e3c1c4dd2",
   "metadata": {},
   "outputs": [
    {
     "name": "stdout",
     "output_type": "stream",
     "text": [
      "0. 1. 1. 2. 3. 5. 8. 13. 21. 34. 55. 89. \n"
     ]
    }
   ],
   "source": [
    "import fibonacci as fibo # fibonacci.py가 인터프리터에 의해 해석 돼서 메모리에 로드\n",
    "fibo.fibonacci(100)"
   ]
  },
  {
   "cell_type": "markdown",
   "id": "9a3ba847-cf2e-46be-b8d6-de5479515ef5",
   "metadata": {},
   "source": [
    "## 1.3 지역변수(local var)와 전역변수(global var)"
   ]
  },
  {
   "cell_type": "code",
   "execution_count": 32,
   "id": "44a22664-f6db-4c63-92d4-175d469571d9",
   "metadata": {},
   "outputs": [
    {
     "name": "stdout",
     "output_type": "stream",
     "text": [
      "100\n",
      "100\n"
     ]
    }
   ],
   "source": [
    "global_var = 100 # 전역변수\n",
    "def func1():\n",
    "    print(global_var)\n",
    "func1()\n",
    "print(global_var)"
   ]
  },
  {
   "cell_type": "code",
   "execution_count": 33,
   "id": "260376ea-fd38-4f34-b1f2-87ea16829f2f",
   "metadata": {
    "scrolled": true
   },
   "outputs": [
    {
     "name": "stdout",
     "output_type": "stream",
     "text": [
      "100\n"
     ]
    },
    {
     "ename": "NameError",
     "evalue": "name 'local_var' is not defined",
     "output_type": "error",
     "traceback": [
      "\u001b[1;31m---------------------------------------------------------------------------\u001b[0m",
      "\u001b[1;31mNameError\u001b[0m                                 Traceback (most recent call last)",
      "Cell \u001b[1;32mIn[33], line 5\u001b[0m\n\u001b[0;32m      3\u001b[0m     \u001b[38;5;28mprint\u001b[39m(local_var)\n\u001b[0;32m      4\u001b[0m func2()\n\u001b[1;32m----> 5\u001b[0m \u001b[38;5;28mprint\u001b[39m(local_var)\n",
      "\u001b[1;31mNameError\u001b[0m: name 'local_var' is not defined"
     ]
    }
   ],
   "source": [
    "def func2():\n",
    "    local_var = 100 # 지역변수\n",
    "    print(local_var)\n",
    "func2()\n",
    "print(local_var)"
   ]
  },
  {
   "cell_type": "markdown",
   "id": "a8691f8e-b2b6-4bf7-9fbc-74279b96c112",
   "metadata": {},
   "source": [
    "## 1.4 lexical 특성"
   ]
  },
  {
   "cell_type": "code",
   "execution_count": 30,
   "id": "ca0e7cce-bdc3-4ac6-b0a0-ffe8c09bb1a8",
   "metadata": {},
   "outputs": [
    {
     "ename": "UnboundLocalError",
     "evalue": "cannot access local variable 'g_var' where it is not associated with a value",
     "output_type": "error",
     "traceback": [
      "\u001b[1;31m---------------------------------------------------------------------------\u001b[0m",
      "\u001b[1;31mUnboundLocalError\u001b[0m                         Traceback (most recent call last)",
      "Cell \u001b[1;32mIn[30], line 6\u001b[0m\n\u001b[0;32m      4\u001b[0m     g_var \u001b[38;5;241m=\u001b[39m \u001b[38;5;241m200\u001b[39m \u001b[38;5;66;03m# 지역변수 선언\u001b[39;00m\n\u001b[0;32m      5\u001b[0m     \u001b[38;5;28mprint\u001b[39m(g_var)\n\u001b[1;32m----> 6\u001b[0m func3()\n\u001b[0;32m      7\u001b[0m \u001b[38;5;28mprint\u001b[39m(g_var)\n",
      "Cell \u001b[1;32mIn[30], line 3\u001b[0m, in \u001b[0;36mfunc3\u001b[1;34m()\u001b[0m\n\u001b[0;32m      2\u001b[0m \u001b[38;5;28;01mdef\u001b[39;00m \u001b[38;5;21mfunc3\u001b[39m():\n\u001b[1;32m----> 3\u001b[0m     \u001b[38;5;28mprint\u001b[39m(g_var)\n\u001b[0;32m      4\u001b[0m     g_var \u001b[38;5;241m=\u001b[39m \u001b[38;5;241m200\u001b[39m \u001b[38;5;66;03m# 지역변수 선언\u001b[39;00m\n\u001b[0;32m      5\u001b[0m     \u001b[38;5;28mprint\u001b[39m(g_var)\n",
      "\u001b[1;31mUnboundLocalError\u001b[0m: cannot access local variable 'g_var' where it is not associated with a value"
     ]
    }
   ],
   "source": [
    "g_var = 100 # 전역변수\n",
    "def func3():\n",
    "    print(g_var)\n",
    "    g_var = 200 # 지역변수 선언\n",
    "    print(g_var)\n",
    "func3()\n",
    "print(g_var)"
   ]
  },
  {
   "cell_type": "markdown",
   "id": "bda8e78c-dc6d-4721-9185-80a79600d5f1",
   "metadata": {},
   "source": [
    "## 1.5 전역변수 수정"
   ]
  },
  {
   "cell_type": "code",
   "execution_count": 35,
   "id": "386e1b09-c425-4338-b411-c4f8a49f0d5a",
   "metadata": {},
   "outputs": [
    {
     "name": "stdout",
     "output_type": "stream",
     "text": [
      "100\n",
      "200\n",
      "200\n"
     ]
    }
   ],
   "source": [
    "g_var = 100 # 전역변수\n",
    "def func3():\n",
    "    global g_var # 함수 내에서 g_var 전역변수 쓸꺼야\n",
    "    print(g_var)\n",
    "    g_var = 200\n",
    "    print(g_var)\n",
    "func3()\n",
    "print(g_var)"
   ]
  },
  {
   "cell_type": "markdown",
   "id": "9dade8bd-e849-4bba-8161-8a94309d77ab",
   "metadata": {},
   "source": [
    "## 1.6 값에 의한 호출 (call by value)\n",
    "- 함수에 인수로 전달되는 변수가 스칼라 변수(숫자, 문자, 논리)일 경우"
   ]
  },
  {
   "cell_type": "code",
   "execution_count": 37,
   "id": "90253260-5f4d-4a7b-9bdf-72d1f02554df",
   "metadata": {},
   "outputs": [
    {
     "data": {
      "text/plain": [
       "2614983660208"
      ]
     },
     "execution_count": 37,
     "metadata": {},
     "output_type": "execute_result"
    }
   ],
   "source": [
    "foo = 'ab' # 스칼라 변수\n",
    "id(foo)"
   ]
  },
  {
   "cell_type": "code",
   "execution_count": 39,
   "id": "bf8a8bd2-29b5-4d18-b500-1e11c4d6bb48",
   "metadata": {},
   "outputs": [
    {
     "name": "stdout",
     "output_type": "stream",
     "text": [
      "before : ab address 2614983660208\n",
      "after : ababab address 2615118625264\n",
      "함수 호출 후 foo : ab의 주소는 2614983660208\n"
     ]
    }
   ],
   "source": [
    "def func1(f):\n",
    "    print(\"before : {} address {}\".format(f, id(f)))\n",
    "    f *= 3 # 매개변수는 지역변수\n",
    "    print(\"after : {} address {}\".format(f, id(f)))\n",
    "func1(foo)\n",
    "print(\"함수 호출 후 foo : {}의 주소는 {}\".format(foo, id(foo)))"
   ]
  },
  {
   "cell_type": "markdown",
   "id": "4a3f4a5b-5969-4932-a2cd-5f9cde0d642a",
   "metadata": {},
   "source": [
    "## 1.7 참조에 의한 호출 (call by reference)\n",
    "- 함수에 인수로 전달되는 변수가 리스트, 딕셔너리, 셋일 경우"
   ]
  },
  {
   "cell_type": "code",
   "execution_count": 41,
   "id": "935559e0-2a9f-4fd2-8be9-68795e48add4",
   "metadata": {},
   "outputs": [
    {
     "name": "stdout",
     "output_type": "stream",
     "text": [
      "L의 내용은 [1, 2, 3], 주소는 2615119374848\n"
     ]
    }
   ],
   "source": [
    "L = [1, 2, 3]\n",
    "print(\"L의 내용은 {}, 주소는 {}\".format(L, id(L)))"
   ]
  },
  {
   "cell_type": "code",
   "execution_count": 43,
   "id": "5054e487-8b85-4e16-84f0-0033755f619f",
   "metadata": {},
   "outputs": [
    {
     "name": "stdout",
     "output_type": "stream",
     "text": [
      "L의 내용은 [1, 2, 3], 주소는 2615119374848\n",
      "L의 내용은 [1, 2, 3, 4], 주소는 2615119374848\n",
      "L의 내용은 [1, 2, 3, 4], 주소는 2615119374848\n"
     ]
    }
   ],
   "source": [
    "def func2(f):\n",
    "    print(\"L의 내용은 {}, 주소는 {}\".format(f, id(f)))\n",
    "    f.append(4)\n",
    "    print(\"L의 내용은 {}, 주소는 {}\".format(f, id(f)))\n",
    "func2(L)\n",
    "print(\"L의 내용은 {}, 주소는 {}\".format(L, id(L)))"
   ]
  },
  {
   "cell_type": "markdown",
   "id": "91409038-d226-4c34-9ec0-0fa884fb59b4",
   "metadata": {},
   "source": [
    "# 2절. 함수의 실행 결과를 반환하는 return"
   ]
  },
  {
   "cell_type": "markdown",
   "id": "ab1cb702-d63b-4b0c-8f99-a6fa8881a470",
   "metadata": {},
   "source": [
    "- 여러개의 값을 반환할 수 있다.(하나의 튜플로 바뀜)"
   ]
  },
  {
   "cell_type": "code",
   "execution_count": 48,
   "id": "44ad12c8-39ca-445f-ab30-d304ebd8c6f3",
   "metadata": {},
   "outputs": [],
   "source": [
    "# 여러개의 값을 return\n",
    "def swap(a, b):\n",
    "    return b, a"
   ]
  },
  {
   "cell_type": "code",
   "execution_count": 51,
   "id": "1284ade6-ef55-44de-a547-f6a6da12d0eb",
   "metadata": {},
   "outputs": [
    {
     "name": "stdout",
     "output_type": "stream",
     "text": [
      "함수 실행 전 x = 5, y = 10\n",
      "함수 실행 후 x = 10, y = 5\n"
     ]
    }
   ],
   "source": [
    "x, y = 5, 10\n",
    "print(\"함수 실행 전 x = {}, y = {}\".format(x, y))\n",
    "x, y = swap(x, y)\n",
    "print(\"함수 실행 후 x = {}, y = {}\".format(x, y))"
   ]
  },
  {
   "cell_type": "markdown",
   "id": "723d4c55-d677-46e6-a913-a3608697d31a",
   "metadata": {},
   "source": [
    "# 3절. 함수의 매개변수"
   ]
  },
  {
   "cell_type": "markdown",
   "id": "536aaf7a-608d-4576-a23e-ec3b3daf3822",
   "metadata": {},
   "source": [
    "## 3.1 기본값을 갖는 매개변수"
   ]
  },
  {
   "cell_type": "code",
   "execution_count": 52,
   "id": "8ee87122-d0b8-4f9f-a712-e8422f3ee428",
   "metadata": {},
   "outputs": [],
   "source": [
    "def make_url(ip, port=80):\n",
    "    # 순서인수, 기본값을 갖는 인수 순으로\n",
    "    return \"http://{}:{}\".format(ip, port)"
   ]
  },
  {
   "cell_type": "code",
   "execution_count": 54,
   "id": "ed4103be-e710-4b8b-b9f6-cecec13f934a",
   "metadata": {},
   "outputs": [
    {
     "name": "stdout",
     "output_type": "stream",
     "text": [
      "http://localhost:80\n",
      "http://localhost:8090\n",
      "http://localhost:8090\n"
     ]
    }
   ],
   "source": [
    "print(make_url(\"localhost\"))\n",
    "print(make_url(\"localhost\", 8090))\n",
    "print(make_url(port = 8090, ip = \"localhost\", ))"
   ]
  },
  {
   "cell_type": "markdown",
   "id": "0a86ea06-9964-4719-bc8a-e249daa06c15",
   "metadata": {},
   "source": [
    "## 3.2 튜플 매개변수를 이용한 가변인수(인수 갯수가 가변) 설정"
   ]
  },
  {
   "cell_type": "code",
   "execution_count": 56,
   "id": "c31a8672-1f39-4572-bf8c-f97811f03981",
   "metadata": {},
   "outputs": [
    {
     "name": "stdout",
     "output_type": "stream",
     "text": [
      "hello world\n"
     ]
    }
   ],
   "source": [
    "print('hello', 'world') # 인수의 갯수가 가변"
   ]
  },
  {
   "cell_type": "code",
   "execution_count": 59,
   "id": "0dfc41a9-3fad-4292-a87b-8f18881394ba",
   "metadata": {},
   "outputs": [],
   "source": [
    "# args 앞에 * : args가 퓨플로 전달 : 튜플매개변수\n",
    "def add(args):\n",
    "    print(\"전달받은 args :\", args)\n",
    "    print(type(args))"
   ]
  },
  {
   "cell_type": "code",
   "execution_count": 60,
   "id": "8d539814-698b-49c9-97c3-e67ae6666775",
   "metadata": {},
   "outputs": [
    {
     "name": "stdout",
     "output_type": "stream",
     "text": [
      "전달받은 args : (1, 2, 3)\n",
      "<class 'tuple'>\n"
     ]
    }
   ],
   "source": [
    "add( (1, 2, 3) )"
   ]
  },
  {
   "cell_type": "code",
   "execution_count": 65,
   "id": "21ae4e53-c64b-4457-85f8-a2be53796118",
   "metadata": {},
   "outputs": [],
   "source": [
    "def add(*args):\n",
    "    # print(\"전달받은 args :\", args)\n",
    "    # print(type(args))\n",
    "    sum = 0\n",
    "    for num in args:\n",
    "        sum += num\n",
    "    return sum"
   ]
  },
  {
   "cell_type": "code",
   "execution_count": 67,
   "id": "83885d68-4fc9-4f94-8e72-91641cb70812",
   "metadata": {},
   "outputs": [
    {
     "name": "stdout",
     "output_type": "stream",
     "text": [
      "6\n",
      "1\n",
      "0\n"
     ]
    }
   ],
   "source": [
    "print(add( 1, 2, 3 ))\n",
    "print(add( 1 ))\n",
    "print(add())"
   ]
  },
  {
   "cell_type": "code",
   "execution_count": 68,
   "id": "f468a063-be9e-45a4-b194-12c7acea14b9",
   "metadata": {},
   "outputs": [],
   "source": [
    "def concat(*args, sep):\n",
    "    return sep.join(args)"
   ]
  },
  {
   "cell_type": "code",
   "execution_count": 70,
   "id": "2160b27c-1647-477a-8e69-f60b7a290c2e",
   "metadata": {
    "scrolled": true
   },
   "outputs": [
    {
     "ename": "TypeError",
     "evalue": "concat() missing 1 required keyword-only argument: 'sep'",
     "output_type": "error",
     "traceback": [
      "\u001b[1;31m---------------------------------------------------------------------------\u001b[0m",
      "\u001b[1;31mTypeError\u001b[0m                                 Traceback (most recent call last)",
      "Cell \u001b[1;32mIn[70], line 1\u001b[0m\n\u001b[1;32m----> 1\u001b[0m concat(\u001b[38;5;124m\"\u001b[39m\u001b[38;5;124mC\u001b[39m\u001b[38;5;124m\"\u001b[39m, \u001b[38;5;124m\"\u001b[39m\u001b[38;5;124mPython\u001b[39m\u001b[38;5;124m\"\u001b[39m, \u001b[38;5;124m\"\u001b[39m\u001b[38;5;124mOracle\u001b[39m\u001b[38;5;124m\"\u001b[39m, \u001b[38;5;124m\"\u001b[39m\u001b[38;5;124m~\u001b[39m\u001b[38;5;124m\"\u001b[39m)\n",
      "\u001b[1;31mTypeError\u001b[0m: concat() missing 1 required keyword-only argument: 'sep'"
     ]
    }
   ],
   "source": [
    "concat(\"C\", \"Python\", \"Oracle\", \"~\")"
   ]
  },
  {
   "cell_type": "code",
   "execution_count": 71,
   "id": "02b53bf4-2a9d-45da-b612-86edf38c1620",
   "metadata": {},
   "outputs": [
    {
     "data": {
      "text/plain": [
       "'C~Python~Oracle'"
      ]
     },
     "execution_count": 71,
     "metadata": {},
     "output_type": "execute_result"
    }
   ],
   "source": [
    "# 해결책 1\n",
    "concat(\"C\", \"Python\", \"Oracle\", sep = \"~\")"
   ]
  },
  {
   "cell_type": "code",
   "execution_count": 76,
   "id": "3c9345bc-3ee2-491a-8e57-ead143f770de",
   "metadata": {},
   "outputs": [
    {
     "data": {
      "text/plain": [
       "'C~Python~Oracle'"
      ]
     },
     "execution_count": 76,
     "metadata": {},
     "output_type": "execute_result"
    }
   ],
   "source": [
    "# 해결책 2 (강추)\n",
    "def concat(sep, *args): # 순서인수 > 튜플인수\n",
    "    return sep.join(args)\n",
    "\n",
    "concat(\"~\", \"C\", \"Python\", \"Oracle\")"
   ]
  },
  {
   "cell_type": "code",
   "execution_count": 77,
   "id": "f946dbef-37c7-446e-b587-89f5436a4aec",
   "metadata": {},
   "outputs": [
    {
     "data": {
      "text/plain": [
       "'C~Python~Oracle'"
      ]
     },
     "execution_count": 77,
     "metadata": {},
     "output_type": "execute_result"
    }
   ],
   "source": [
    "# 해결책 3\n",
    "def concat(*args, sep = '/'): # 순서인수 > 튜플인수 > 키워드인수\n",
    "    return sep.join(args)\n",
    "\n",
    "concat( \"C\", \"Python\", \"Oracle\", sep = \"~\")"
   ]
  },
  {
   "cell_type": "markdown",
   "id": "5b961709-3a4a-49a6-b652-d96476abe6eb",
   "metadata": {},
   "source": [
    "## 3.3 딕셔너리 매개변수"
   ]
  },
  {
   "cell_type": "code",
   "execution_count": 84,
   "id": "9f63c24a-2129-44f4-8f74-a8f9f62f8727",
   "metadata": {},
   "outputs": [],
   "source": [
    "def func(**args): # args가 딕셔너리로 전달\n",
    "    # print(args)\n",
    "    # print(type(args))\n",
    "    for key, value in args.items():\n",
    "        print(\"{} : {}\".format(key, value))"
   ]
  },
  {
   "cell_type": "code",
   "execution_count": 81,
   "id": "1a0fef09-9c43-4bd6-9a53-da22a332ec7e",
   "metadata": {},
   "outputs": [
    {
     "name": "stdout",
     "output_type": "stream",
     "text": [
      "{'name': '홍길동', 'age': 20}\n",
      "<class 'dict'>\n"
     ]
    }
   ],
   "source": [
    "dic = {\"name\" : \"홍길동\", \"age\" : \"20\"}\n",
    "func(name = \"홍길동\", age = 20)"
   ]
  },
  {
   "cell_type": "code",
   "execution_count": 85,
   "id": "d16f2044-68e8-4713-8b29-4bd45ad14037",
   "metadata": {},
   "outputs": [
    {
     "name": "stdout",
     "output_type": "stream",
     "text": [
      "gamenumber : survival\n",
      "year : 2024\n",
      "price : 33000\n"
     ]
    }
   ],
   "source": [
    "func(gamenumber=\"survival\", year=2024, price=33000)"
   ]
  },
  {
   "cell_type": "markdown",
   "id": "7a7f09c6-eba5-4237-bc69-594e07c5e3ac",
   "metadata": {},
   "source": [
    "## 3.4 함수 정의시 매개변수의 순서"
   ]
  },
  {
   "cell_type": "markdown",
   "id": "56f0fea5-f80f-4d04-8316-562f9043810b",
   "metadata": {},
   "source": [
    "- 순서인수 > 튜플인수(*) > 키워드인수(매개변수 이름을 반드시 명시) > 딕셔너리"
   ]
  },
  {
   "cell_type": "code",
   "execution_count": 87,
   "id": "b7c3568a-2503-49ee-8972-9ce2de87e339",
   "metadata": {},
   "outputs": [],
   "source": [
    "def func(a, b, c, *d, e=10, **f):\n",
    "    print('a = ', a)\n",
    "    print('b = ', b)\n",
    "    print('c = ', c)\n",
    "    print('d = ', d)\n",
    "    print('e = ', e)\n",
    "    print('f = ', f)"
   ]
  },
  {
   "cell_type": "code",
   "execution_count": 88,
   "id": "9f37bc92-131c-4672-ba7f-831b6338190a",
   "metadata": {},
   "outputs": [
    {
     "name": "stdout",
     "output_type": "stream",
     "text": [
      "a =  10\n",
      "b =  20\n",
      "c =  30\n",
      "d =  (1, 2, 3, 4, 5)\n",
      "e =  100\n",
      "f =  {'height': 180, 'name': 'gildong', 'address': '서울시 금천구'}\n"
     ]
    }
   ],
   "source": [
    "func(10, 20, 30, 1,2,3,4,5, e=100, height=180, name=\"gildong\", address=\"서울시 금천구\")"
   ]
  },
  {
   "cell_type": "markdown",
   "id": "b52e1fac-bfdc-4bbf-b66e-24539986ed3d",
   "metadata": {},
   "source": [
    "## 3.5 인수의 언패킹"
   ]
  },
  {
   "cell_type": "markdown",
   "id": "6c0fc5e3-16e0-403c-9499-2f0d08e74247",
   "metadata": {},
   "source": [
    "* 튜플 인수 언패킹"
   ]
  },
  {
   "cell_type": "code",
   "execution_count": null,
   "id": "ea47502d-8046-4e73-b01f-40612150a79b",
   "metadata": {},
   "outputs": [],
   "source": [
    "def add(*args):\n",
    "    # print(\"전달받은 args :\", args)\n",
    "    # print(type(args))\n",
    "    sum = 0\n",
    "    for num in args:\n",
    "        sum += num\n",
    "    return sum"
   ]
  },
  {
   "cell_type": "code",
   "execution_count": 95,
   "id": "97d9dcaa-fca7-433d-864c-ffa10a15d5b6",
   "metadata": {},
   "outputs": [
    {
     "data": {
      "text/plain": [
       "21"
      ]
     },
     "execution_count": 95,
     "metadata": {},
     "output_type": "execute_result"
    }
   ],
   "source": [
    "data = (1, 2, 3, 4, 5, 6)\n",
    "add(*data)"
   ]
  },
  {
   "cell_type": "markdown",
   "id": "cb275e91-b49c-4d8a-92c2-b30552a40f91",
   "metadata": {},
   "source": [
    "* 딕셔너리 인수 언패킹"
   ]
  },
  {
   "cell_type": "code",
   "execution_count": 99,
   "id": "fe453677-f502-4efa-b087-ef06609ca9c6",
   "metadata": {},
   "outputs": [],
   "source": [
    "def func(**args): # args가 딕셔너리로 전달\n",
    "    # print(args)\n",
    "    # print(type(args))\n",
    "    for key, value in args.items():\n",
    "        print(\"{} : {}\".format(key, value))"
   ]
  },
  {
   "cell_type": "code",
   "execution_count": 100,
   "id": "dd0d1842-a187-4ab8-939e-1757a8ae777e",
   "metadata": {},
   "outputs": [
    {
     "name": "stdout",
     "output_type": "stream",
     "text": [
      "name : gildong\n",
      "age : 30\n"
     ]
    }
   ],
   "source": [
    "dic = {\"name\":\"gildong\", \"age\":30}\n",
    "func(**dic)"
   ]
  },
  {
   "cell_type": "markdown",
   "id": "ed92d2df-2a11-4616-8d89-ab277a01079a",
   "metadata": {},
   "source": [
    "# 4절. 람다식"
   ]
  },
  {
   "cell_type": "markdown",
   "id": "32ff729a-eae2-45c5-b19c-be32249ebf8c",
   "metadata": {},
   "source": [
    "- 람다식은 작은 익명함수를 의미함\n",
    "- 실행할 문장을 한 문장만 작성할 수 있음\n",
    "- 리스트 컴프리헨션과 같이 참조해서 학습 추천\n",
    "- ex. map(), filter()에서 사용할 예정"
   ]
  },
  {
   "cell_type": "code",
   "execution_count": 101,
   "id": "a538848f-0213-4627-8479-fdc277165e0d",
   "metadata": {},
   "outputs": [
    {
     "data": {
      "text/plain": [
       "8"
      ]
     },
     "execution_count": 101,
     "metadata": {},
     "output_type": "execute_result"
    }
   ],
   "source": [
    "# 일반함수\n",
    "def add(a, b):\n",
    "    return a+b\n",
    "add(3, 5)"
   ]
  },
  {
   "cell_type": "code",
   "execution_count": 102,
   "id": "9507438b-f9b1-4851-b4da-dfd9665c6910",
   "metadata": {},
   "outputs": [
    {
     "data": {
      "text/plain": [
       "function"
      ]
     },
     "execution_count": 102,
     "metadata": {},
     "output_type": "execute_result"
    }
   ],
   "source": [
    "type(add)"
   ]
  },
  {
   "cell_type": "code",
   "execution_count": 108,
   "id": "9870455f-34bf-43c3-9bdd-d2af2fa20175",
   "metadata": {},
   "outputs": [
    {
     "data": {
      "text/plain": [
       "10"
      ]
     },
     "execution_count": 108,
     "metadata": {},
     "output_type": "execute_result"
    }
   ],
   "source": [
    "# 람다식\n",
    "add = lambda a, b : a+b\n",
    "#(lambda a, b : a+b)(5, 5)\n",
    "add(5, 5)"
   ]
  },
  {
   "cell_type": "markdown",
   "id": "eeac472a-d4e5-4f26-a875-95e2952da193",
   "metadata": {},
   "source": [
    "* 매개변수로 람다식 이용"
   ]
  },
  {
   "cell_type": "code",
   "execution_count": 109,
   "id": "8a92461c-51f6-4d5c-b5b0-2e94cd7df22a",
   "metadata": {},
   "outputs": [
    {
     "data": {
      "text/plain": [
       "9"
      ]
     },
     "execution_count": 109,
     "metadata": {},
     "output_type": "execute_result"
    }
   ],
   "source": [
    "f = lambda x : x**2\n",
    "f(3)"
   ]
  },
  {
   "cell_type": "code",
   "execution_count": 111,
   "id": "f896934a-3faa-4d69-b5f6-f934977ffdca",
   "metadata": {},
   "outputs": [],
   "source": [
    "def map_template(func, L=[]):\n",
    "    result = []\n",
    "    for data in L:\n",
    "        result.append(func(data))\n",
    "    return result"
   ]
  },
  {
   "cell_type": "code",
   "execution_count": 113,
   "id": "afae77c0-39e8-4c96-af0c-4a060990643a",
   "metadata": {},
   "outputs": [
    {
     "data": {
      "text/plain": [
       "[1, 4, 9, 16, 25]"
      ]
     },
     "execution_count": 113,
     "metadata": {},
     "output_type": "execute_result"
    }
   ],
   "source": [
    "list_data = [1,2,3,4,5]\n",
    "map_template(lambda x : x**2, list_data)"
   ]
  },
  {
   "cell_type": "code",
   "execution_count": 115,
   "id": "9295a0e9-2541-4060-aa31-9371958e8721",
   "metadata": {},
   "outputs": [
    {
     "data": {
      "text/plain": [
       "[2, 4, 6, 8, 10]"
      ]
     },
     "execution_count": 115,
     "metadata": {},
     "output_type": "execute_result"
    }
   ],
   "source": [
    "list(map(lambda x : x*2, list_data))"
   ]
  },
  {
   "cell_type": "code",
   "execution_count": 116,
   "id": "42147d2f-4b73-44f6-b455-df6f4d1690b3",
   "metadata": {},
   "outputs": [
    {
     "data": {
      "text/plain": [
       "[2, 4, 6, 8, 10]"
      ]
     },
     "execution_count": 116,
     "metadata": {},
     "output_type": "execute_result"
    }
   ],
   "source": [
    "# 리스트 컴프리헨션이용\n",
    "[x*2 for x in list_data]"
   ]
  },
  {
   "cell_type": "code",
   "execution_count": 118,
   "id": "e64692c5-3e4f-4aa5-8e0a-d58fad9845c4",
   "metadata": {},
   "outputs": [],
   "source": [
    "list_data = [1,2,3,4,5]"
   ]
  },
  {
   "cell_type": "code",
   "execution_count": 119,
   "id": "0362a95b-95ed-450c-a14d-f4308ad3b238",
   "metadata": {},
   "outputs": [],
   "source": [
    "def filter_template(func, L=[]):\n",
    "    result = []\n",
    "    for data in L:\n",
    "        if func(data):\n",
    "            result.append(data)\n",
    "    return result"
   ]
  },
  {
   "cell_type": "code",
   "execution_count": 120,
   "id": "5f49577c-3b4a-4a58-9516-c2e6eaceea92",
   "metadata": {},
   "outputs": [
    {
     "data": {
      "text/plain": [
       "[2, 4]"
      ]
     },
     "execution_count": 120,
     "metadata": {},
     "output_type": "execute_result"
    }
   ],
   "source": [
    "filter_template(lambda x : x%2 == 0, list_data)"
   ]
  },
  {
   "cell_type": "code",
   "execution_count": 122,
   "id": "a560d6a0-99c5-486a-b70a-e8e902696705",
   "metadata": {},
   "outputs": [
    {
     "data": {
      "text/plain": [
       "[2, 4]"
      ]
     },
     "execution_count": 122,
     "metadata": {},
     "output_type": "execute_result"
    }
   ],
   "source": [
    "list(filter(lambda x : x%2==0, list_data))"
   ]
  },
  {
   "cell_type": "code",
   "execution_count": 124,
   "id": "de1f1b6e-633d-4344-8962-4fddaae6ad1b",
   "metadata": {},
   "outputs": [
    {
     "data": {
      "text/plain": [
       "[2, 4]"
      ]
     },
     "execution_count": 124,
     "metadata": {},
     "output_type": "execute_result"
    }
   ],
   "source": [
    "# 리스트컴프리헨션 이용\n",
    "[x for x in list_data if x%2==0]"
   ]
  },
  {
   "cell_type": "markdown",
   "id": "9649d2c7-22b9-43c2-a73b-f5473e1a00c3",
   "metadata": {},
   "source": [
    "# 5절. 파이썬 내장함수"
   ]
  },
  {
   "cell_type": "markdown",
   "id": "97651446-161a-4ccf-bc81-e67096e7a655",
   "metadata": {},
   "source": [
    "- print처럼 import없이 바로 사용가능한 함수"
   ]
  },
  {
   "cell_type": "markdown",
   "id": "edbba4cd-0e57-4dd3-8820-0676d1386a90",
   "metadata": {},
   "source": [
    "# 연습문제"
   ]
  },
  {
   "cell_type": "code",
   "execution_count": 10,
   "id": "721a2318-a772-474f-9a1e-d5cab9dfbe22",
   "metadata": {},
   "outputs": [],
   "source": [
    "# 연습문제 1"
   ]
  },
  {
   "cell_type": "code",
   "execution_count": 7,
   "id": "e68f8d8a-6b87-4fbd-b0c3-4bc1ae5083fc",
   "metadata": {},
   "outputs": [
    {
     "data": {
      "text/plain": [
       "[18, 19, 20, 23, 29]"
      ]
     },
     "execution_count": 7,
     "metadata": {},
     "output_type": "execute_result"
    }
   ],
   "source": [
    "# 연습문제 2\n",
    "import random\n",
    "\n",
    "def make_lotto():\n",
    "    lotto = set()\n",
    "    \n",
    "    while len(lotto) < 5:\n",
    "        lotto.add(random.randint(1, 45))\n",
    "    \n",
    "    lotto = list(lotto)\n",
    "    lotto.sort()\n",
    "    \n",
    "    return lotto\n",
    "\n",
    "make_lotto()"
   ]
  },
  {
   "cell_type": "code",
   "execution_count": 13,
   "id": "5991e48b-38c7-4c0a-9fe0-1453049bdddf",
   "metadata": {},
   "outputs": [
    {
     "data": {
      "text/plain": [
       "[1, 2, '짝', 4, 5, '짝', 7, 8, '짝', '짝', 20, '짝짝']"
      ]
     },
     "execution_count": 13,
     "metadata": {},
     "output_type": "execute_result"
    }
   ],
   "source": [
    "# 연습문제 3-1\n",
    "def game_369(args):\n",
    "    L = []\n",
    "    for data in args:\n",
    "        # print(data)\n",
    "        sum = 0\n",
    "        sum = str(data).count(\"3\") + str(data).count(\"6\") + str(data).count(\"9\")\n",
    "        \n",
    "        if sum > 0:\n",
    "            clap = ''\n",
    "            for i in range(sum):\n",
    "                clap += '짝'\n",
    "            L.append(clap)\n",
    "        else:\n",
    "            L.append(data)\n",
    "     \n",
    "    return L          \n",
    "        \n",
    "game_369([1,2,3,4,5,6,7,8,9,13,20,33])"
   ]
  },
  {
   "cell_type": "code",
   "execution_count": 9,
   "id": "50135992-c960-47a2-a0b4-a92747e01fe4",
   "metadata": {},
   "outputs": [
    {
     "data": {
      "text/plain": [
       "[1, 2, '짝', 4, 5, '짝', 7, 8, '짝', '짝', 20, '짝짝']"
      ]
     },
     "execution_count": 9,
     "metadata": {},
     "output_type": "execute_result"
    }
   ],
   "source": [
    "# 연습문제 3-2\n",
    "def game_369(*args):\n",
    "    L = []\n",
    "    for data in args:\n",
    "        # print(data)\n",
    "        sum = 0\n",
    "        sum = str(data).count(\"3\") + str(data).count(\"6\") + str(data).count(\"9\")\n",
    "\n",
    "        if sum > 0:\n",
    "            jjaks = []\n",
    "            for i in range(sum):\n",
    "                jjaks.append('짝')\n",
    "            L.append(''.join(jjaks))\n",
    "        else:\n",
    "            L.append(data)\n",
    "     \n",
    "    return L          \n",
    "        \n",
    "game_369(1,2,3,4,5,6,7,8,9,13,20,33)"
   ]
  }
 ],
 "metadata": {
  "kernelspec": {
   "display_name": "Python 3 (ipykernel)",
   "language": "python",
   "name": "python3"
  },
  "language_info": {
   "codemirror_mode": {
    "name": "ipython",
    "version": 3
   },
   "file_extension": ".py",
   "mimetype": "text/x-python",
   "name": "python",
   "nbconvert_exporter": "python",
   "pygments_lexer": "ipython3",
   "version": "3.11.7"
  }
 },
 "nbformat": 4,
 "nbformat_minor": 5
}
