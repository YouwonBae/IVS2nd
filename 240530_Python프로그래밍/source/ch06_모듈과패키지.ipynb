{
 "cells": [
  {
   "cell_type": "markdown",
   "id": "e900368a-74b5-4d3d-ad98-59089192081d",
   "metadata": {},
   "source": [
    "<font size = '7' color = 'red'><b>ch06. 모듈과 패키지</b></font>"
   ]
  },
  {
   "cell_type": "markdown",
   "id": "1fdc6d4b-795e-4fa2-9fbc-c916cbc33c50",
   "metadata": {},
   "source": [
    "# 1절. 모듈 사용하기"
   ]
  },
  {
   "cell_type": "markdown",
   "id": "44723a3f-89bb-44ea-bfd6-52ed1ecda3bf",
   "metadata": {},
   "source": [
    "- 모듈은 함수, 변수, 클래스가 담긴 파일(*.py)\n",
    "- 파이썬 표준 모듈 200여개\n",
    "- 표준모듈 외의 모듈 사용하려면 라이브러리 설치 :\n",
    "```\n",
    "        $pip install \"library명\"\n",
    "        $conda install \"library명\"\n",
    "```"
   ]
  },
  {
   "cell_type": "code",
   "execution_count": 9,
   "id": "86d97f5c-f6c2-4bcb-a810-c0a78481c9e6",
   "metadata": {},
   "outputs": [],
   "source": [
    "import time"
   ]
  },
  {
   "cell_type": "markdown",
   "id": "80537374-31b4-4300-8bff-f66320141b58",
   "metadata": {},
   "source": [
    "# 2절. 사용자 정의 모듈"
   ]
  },
  {
   "cell_type": "markdown",
   "id": "5d3a2451-b31c-480e-acee-829599285d98",
   "metadata": {},
   "source": [
    "- 모듈을 가져오는 순서 (ㅂ)표준모듈 (2)sys.path변수에 저장된 경로"
   ]
  },
  {
   "cell_type": "code",
   "execution_count": 5,
   "id": "41239fe0-ea61-4554-9507-81112e7f107c",
   "metadata": {},
   "outputs": [
    {
     "data": {
      "text/plain": [
       "['C:\\\\IVS2nd\\\\240530_Python프로그래밍\\\\source',\n",
       " 'C:\\\\Users\\\\USER\\\\anaconda3\\\\python311.zip',\n",
       " 'C:\\\\Users\\\\USER\\\\anaconda3\\\\DLLs',\n",
       " 'C:\\\\Users\\\\USER\\\\anaconda3\\\\Lib',\n",
       " 'C:\\\\Users\\\\USER\\\\anaconda3',\n",
       " '',\n",
       " 'C:\\\\Users\\\\USER\\\\anaconda3\\\\Lib\\\\site-packages',\n",
       " 'C:\\\\Users\\\\USER\\\\anaconda3\\\\Lib\\\\site-packages\\\\win32',\n",
       " 'C:\\\\Users\\\\USER\\\\anaconda3\\\\Lib\\\\site-packages\\\\win32\\\\lib',\n",
       " 'C:\\\\Users\\\\USER\\\\anaconda3\\\\Lib\\\\site-packages\\\\Pythonwin',\n",
       " 'C:\\\\IVS2nd\\\\240530_Python프로그래밍\\\\source\\\\pylib']"
      ]
     },
     "execution_count": 5,
     "metadata": {},
     "output_type": "execute_result"
    }
   ],
   "source": [
    "import sys\n",
    "sys.path.append('C:\\\\IVS2nd\\\\240530_Python프로그래밍\\\\source\\\\pylib')\n",
    "sys.path"
   ]
  },
  {
   "cell_type": "markdown",
   "id": "16307253-22e2-40b2-92d4-28ac9fac9611",
   "metadata": {},
   "source": [
    "```\n",
    "1. import A      : A모듈을 가져옴\n",
    "2. import A as B : A모듈을 B이름으로 가져옴\n",
    "3. from A import B : A모듈안의 B함수를 가져옴\n",
    "4. from A import B as C : A모듈안의 B함수를 C이름으로 가져옴\n",
    "5. from A.B import C : A패키지란의 B모듈의 C함수를 가져옴\n",
    "6. from A.B import C as D : A패키지란의 B모듈의 C함수를 D이름으로 가져옴\n",
    "```"
   ]
  },
  {
   "cell_type": "code",
   "execution_count": 6,
   "id": "9f66f5b6-1633-45c4-b8e0-58c4c7538648",
   "metadata": {},
   "outputs": [
    {
     "name": "stdout",
     "output_type": "stream",
     "text": [
      "0. 1. 1. 2. 3. 5. 8. 13. 21. 34. 55. 89. \n"
     ]
    }
   ],
   "source": [
    "# 1. import A      : A모듈을 가져옴\n",
    "import fibonacci\n",
    "fibonacci.fibonacci(100)"
   ]
  },
  {
   "cell_type": "code",
   "execution_count": 7,
   "id": "542eb466-7562-4263-9ebd-b4118a59c578",
   "metadata": {},
   "outputs": [
    {
     "name": "stdout",
     "output_type": "stream",
     "text": [
      "0. 1. 1. 2. 3. 5. 8. 13. 21. 34. 55. 89. \n"
     ]
    }
   ],
   "source": [
    "# 2. import A as B : A모듈을 B이름으로 가져옴\n",
    "import fibonacci as fibo\n",
    "fibo.fibonacci(100)"
   ]
  },
  {
   "cell_type": "code",
   "execution_count": 8,
   "id": "4ca875f0-57e3-4a3a-9248-57d1002cc389",
   "metadata": {},
   "outputs": [],
   "source": [
    "del fibo"
   ]
  },
  {
   "cell_type": "code",
   "execution_count": 10,
   "id": "eccfd0ca-2aa5-4ade-a36d-a0bd1a631fe9",
   "metadata": {},
   "outputs": [
    {
     "name": "stdout",
     "output_type": "stream",
     "text": [
      "0. 1. 1. 2. 3. 5. 8. 13. 21. 34. \n"
     ]
    }
   ],
   "source": [
    "# 3. from A import B : A모듈안의 B함수를 가져옴\n",
    "from fibonacci import fibonacci\n",
    "fibonacci(50)"
   ]
  },
  {
   "cell_type": "code",
   "execution_count": 11,
   "id": "5062f613-20f8-4b30-b42c-2204e7708b8a",
   "metadata": {},
   "outputs": [],
   "source": [
    "del fibonacci"
   ]
  },
  {
   "cell_type": "code",
   "execution_count": 12,
   "id": "2fc12b27-5365-4f6d-b28d-9852a3f88899",
   "metadata": {},
   "outputs": [],
   "source": [
    "# 4. fro A import B as C : A모듈안의 B함수를 C이름으로 가져옴\n",
    "from fibonacci import fibonacci as fibo"
   ]
  },
  {
   "cell_type": "code",
   "execution_count": 13,
   "id": "82835fac-8068-4ac0-b633-ad779506216d",
   "metadata": {},
   "outputs": [
    {
     "name": "stdout",
     "output_type": "stream",
     "text": [
      "0. 1. 1. 2. 3. 5. 8. 13. 21. 34. \n"
     ]
    }
   ],
   "source": [
    "fibo(50)"
   ]
  },
  {
   "cell_type": "code",
   "execution_count": 14,
   "id": "07a4754c-b768-4258-90f5-c0802561c8f1",
   "metadata": {},
   "outputs": [
    {
     "data": {
      "text/plain": [
       "['__builtins__',\n",
       " '__cached__',\n",
       " '__doc__',\n",
       " '__file__',\n",
       " '__loader__',\n",
       " '__name__',\n",
       " '__package__',\n",
       " '__spec__',\n",
       " 'fibonacci']"
      ]
     },
     "execution_count": 14,
     "metadata": {},
     "output_type": "execute_result"
    }
   ],
   "source": [
    "import fibonacci\n",
    "dir(fibonacci)"
   ]
  }
 ],
 "metadata": {
  "kernelspec": {
   "display_name": "Python 3 (ipykernel)",
   "language": "python",
   "name": "python3"
  },
  "language_info": {
   "codemirror_mode": {
    "name": "ipython",
    "version": 3
   },
   "file_extension": ".py",
   "mimetype": "text/x-python",
   "name": "python",
   "nbconvert_exporter": "python",
   "pygments_lexer": "ipython3",
   "version": "3.11.7"
  }
 },
 "nbformat": 4,
 "nbformat_minor": 5
}
